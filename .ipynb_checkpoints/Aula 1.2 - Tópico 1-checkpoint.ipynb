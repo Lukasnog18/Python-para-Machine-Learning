{
 "cells": [
  {
   "cell_type": "code",
   "execution_count": 3,
   "id": "a275d2a9",
   "metadata": {
    "collapsed": true
   },
   "outputs": [
    {
     "name": "stdout",
     "output_type": "stream",
     "text": [
      "count(0)\n",
      "0\n",
      "1\n",
      "3\n"
     ]
    }
   ],
   "source": [
    "# Tópico 1 – Itertools\n",
    "\n",
    "import itertools\n",
    "\n",
    "contador = itertools.count()\n",
    "\n",
    "print(contador)\n",
    "\n",
    "print(next(contador))\n",
    "print(next(contador))\n",
    "next(contador)\n",
    "print(next(contador))\n"
   ]
  },
  {
   "cell_type": "code",
   "execution_count": 15,
   "id": "47b5a43f",
   "metadata": {},
   "outputs": [
    {
     "name": "stdout",
     "output_type": "stream",
     "text": [
      "[('A', 'B'), ('A', 'C'), ('B', 'C')]\n",
      "[('A', 'A'), ('A', 'B'), ('A', 'C'), ('A', 'B'), ('A', 'C'), ('B', 'C')]\n",
      "[('A', 'B', 'C'), ('A', 'B', 'D'), ('A', 'C', 'D'), ('B', 'C', 'D')]\n"
     ]
    }
   ],
   "source": [
    "# Combinations\n",
    "# - esse método é utilizado quando queremos criar combinações onde a ordem não importa.\n",
    "\n",
    "import itertools\n",
    "\n",
    "# print(itertools.combinations('ABC', 2))\n",
    "print(list(itertools.combinations('ABC', 2)))\n",
    "\n",
    "print(list(itertools.combinations('AABC', 2)))\n",
    "\n",
    "print(list(itertools.combinations('ABCD', 3)))\n",
    "\n",
    "# print(list(itertools.combinations(['pedra', 'papel', 'tesoura', 'lagarto', 'spock'], 2)))\n",
    "# print(list(itertools.permutations(['pedra', 'papel', 'tesoura', 'lagarto', 'spock'], r = 2)))\n"
   ]
  },
  {
   "cell_type": "code",
   "execution_count": 6,
   "id": "edaa9ad0",
   "metadata": {},
   "outputs": [
    {
     "name": "stdout",
     "output_type": "stream",
     "text": [
      "[(1, 1), (1, 1)]\n",
      "[(1, 2), (2, 1)]\n",
      "[(1, 2, 3), (1, 3, 2), (2, 1, 3), (2, 3, 1), (3, 1, 2), (3, 2, 1)]\n",
      "[(1, 2), (1, 3), (2, 1), (2, 3), (3, 1), (3, 2)]\n"
     ]
    }
   ],
   "source": [
    "# Permutations\n",
    "# - esse método é bastante flexível podendo ser usado em diversos problemas\n",
    "# que envolvem combinações ordenadas.\n",
    "\n",
    "import itertools\n",
    "\n",
    "print(list(itertools.permutations([1, 1])))\n",
    "\n",
    "print(list(itertools.permutations([1, 2])))\n",
    "\n",
    "print(list(itertools.permutations([1, 2, 3])))\n",
    "\n",
    "print(list(itertools.permutations([1, 2, 3], r = 2)))\n",
    "\n",
    "# print(list(itertools.permutations(['lucas', 'ferreira', 'nogueira', 'alves', 'barroso'], r = 2)))\n"
   ]
  },
  {
   "cell_type": "code",
   "execution_count": 13,
   "id": "cfbe349b",
   "metadata": {},
   "outputs": [
    {
     "name": "stdout",
     "output_type": "stream",
     "text": [
      "[(1, 1), (1, 2), (2, 1), (2, 2)]\n",
      "[(1, 1), (1, 2), (2, 1), (2, 2)]\n",
      "[('Python', 'Academy'), ('Python', 'Rocks')]\n",
      "[(1, 3, 5), (1, 3, 6), (1, 4, 5), (1, 4, 6), (2, 3, 5), (2, 3, 6), (2, 4, 5), (2, 4, 6)]\n"
     ]
    }
   ],
   "source": [
    "# Product \n",
    "# - responsável por fazer o produto cartesiano, do módulo itertools.\n",
    "# - esse método é capaz de criar todos os pares possíveis entre dois conjuntos distintos.\n",
    "\n",
    "import itertools\n",
    "\n",
    "print(list(itertools.product([1, 2], repeat = 2)))\n",
    "\n",
    "print(list(itertools.product([1, 2], [1,2])))\n",
    "\n",
    "print(list(itertools.product(['Python'], ['Academy', 'Rocks'])))\n",
    "\n",
    "print(list(itertools.product([1, 2], [3, 4], [5, 6])))\n",
    "\n",
    "#print(list(itertools.product(['lucas', 'anny'], ['ferreira', 'nogueira', 'barroso', 'alves'])))\n",
    "\n",
    "# print(list(itertools.product(['paus', 'ouros', 'copas', 'espadas'], [1,2,3,4,5,6,7,8,9,10,11,12,13])))\n"
   ]
  },
  {
   "cell_type": "code",
   "execution_count": null,
   "id": "1718fe06",
   "metadata": {},
   "outputs": [],
   "source": []
  }
 ],
 "metadata": {
  "kernelspec": {
   "display_name": "Python 3",
   "language": "python",
   "name": "python3"
  },
  "language_info": {
   "codemirror_mode": {
    "name": "ipython",
    "version": 3
   },
   "file_extension": ".py",
   "mimetype": "text/x-python",
   "name": "python",
   "nbconvert_exporter": "python",
   "pygments_lexer": "ipython3",
   "version": "3.8.8"
  }
 },
 "nbformat": 4,
 "nbformat_minor": 5
}
