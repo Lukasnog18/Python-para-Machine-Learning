{
 "cells": [
  {
   "cell_type": "code",
   "execution_count": 3,
   "id": "ca170dfe",
   "metadata": {
    "collapsed": true
   },
   "outputs": [
    {
     "name": "stdout",
     "output_type": "stream",
     "text": [
      "primeiro grupo:  [75, 99]\n",
      "segundo grupo:  [60, 72]\n",
      "terceiro grupo:  [30, 45]\n"
     ]
    }
   ],
   "source": [
    "#Tópico 1 – Programação Funcional\n",
    "\n",
    "idades = [30, 45, 60, 72, 75, 99]\n",
    "\n",
    "def primeira_fase(idade):\n",
    "    return idade >= 75\n",
    "\n",
    "def segunda_fase(idade):\n",
    "    return 60 <= idade <= 74\n",
    "\n",
    "def terceira_fase(idade):\n",
    "    return idade <= 59\n",
    "\n",
    "\n",
    "def filtrar(lista, criterio):\n",
    "    nova_lista = []\n",
    "    for elemento in lista:\n",
    "        if criterio(elemento):\n",
    "            nova_lista.append(elemento)\n",
    "            \n",
    "    return nova_lista\n",
    "\n",
    "\n",
    "print(\"primeiro grupo: \", filtrar(idades, primeira_fase))\n",
    "print(\"segundo grupo: \", filtrar(idades, segunda_fase))\n",
    "print(\"terceiro grupo: \", filtrar(idades, terceira_fase))\n"
   ]
  }
 ],
 "metadata": {
  "kernelspec": {
   "display_name": "Python 3",
   "language": "python",
   "name": "python3"
  },
  "language_info": {
   "codemirror_mode": {
    "name": "ipython",
    "version": 3
   },
   "file_extension": ".py",
   "mimetype": "text/x-python",
   "name": "python",
   "nbconvert_exporter": "python",
   "pygments_lexer": "ipython3",
   "version": "3.8.8"
  }
 },
 "nbformat": 4,
 "nbformat_minor": 5
}
