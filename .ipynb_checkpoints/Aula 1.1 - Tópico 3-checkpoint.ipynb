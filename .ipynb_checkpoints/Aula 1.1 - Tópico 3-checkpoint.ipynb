{
 "cells": [
  {
   "cell_type": "code",
   "execution_count": 1,
   "id": "19e0fdf4",
   "metadata": {
    "collapsed": true
   },
   "outputs": [
    {
     "name": "stdout",
     "output_type": "stream",
     "text": [
      "1\n",
      "2\n",
      "5\n",
      "19\n"
     ]
    }
   ],
   "source": [
    "# Tópico 3 – Funções Puras em Python\n",
    "\n",
    "# Para converter um número x de ponto flutuante em inteiro, é só utilizar a função int(x).\n",
    "# E para aplicar essa função em toda uma lista de uma vez, basta utilizar a função map.\n",
    "\n",
    "anos = [1.5, 2.3, 5.0, 19.4]\n",
    "anos_inteiros = map(int, anos)\n",
    "\n",
    "for ano in anos_inteiros:\n",
    "    print(ano)\n"
   ]
  },
  {
   "cell_type": "code",
   "execution_count": 2,
   "id": "610f21a9",
   "metadata": {},
   "outputs": [
    {
     "name": "stdout",
     "output_type": "stream",
     "text": [
      "int:\n",
      "\n",
      "1\n",
      "2\n",
      "3\n",
      "\n",
      "float:\n",
      "\n",
      "1.0\n",
      "2.0\n",
      "3.0\n",
      "\n",
      "upper:\n",
      "\n",
      "AMOR\n",
      "BOLA\n",
      "CASA\n",
      "\n",
      "lower:\n",
      "\n",
      "amor\n",
      "bola\n",
      "casa\n",
      "\n",
      "len:\n",
      "\n",
      "4\n",
      "8\n",
      "7\n",
      "\n",
      "lambda:\n",
      "\n",
      "x*2:\n",
      "2\n",
      "4\n",
      "6\n",
      "\n",
      "x+5:\n",
      "6\n",
      "7\n",
      "8\n",
      "\n",
      "x==2\n",
      "False\n",
      "True\n",
      "False\n"
     ]
    }
   ],
   "source": [
    "# Praticar a função map usando int, float, upper, lower, len e lambda\n",
    "\n",
    "#int\n",
    "print('int:\\n')\n",
    "anos = [1.5, 2.0, 3.6]\n",
    "anos_inteiros = map(int, anos)\n",
    "for ano in anos_inteiros:   \n",
    "    print(ano)\n",
    "    \n",
    "#float\n",
    "print('\\nfloat:\\n')\n",
    "num = [1, 2, 3]\n",
    "num_float = map(float, num)\n",
    "for numero in num_float:\n",
    "    print(numero)\n",
    "    \n",
    "#upper\n",
    "print('\\nupper:\\n')\n",
    "lista = ['amor', 'bola', 'casa']\n",
    "lista_upper = map(str.upper, lista)\n",
    "for palavra in lista_upper:\n",
    "    print(palavra)\n",
    "\n",
    "#lower\n",
    "print('\\nlower:\\n')\n",
    "lista_lower = map(str.lower, lista)\n",
    "for palavra in lista_lower:\n",
    "    print(palavra)\n",
    "    \n",
    "#len\n",
    "print('\\nlen:\\n')\n",
    "lista2 = ['amor', 'baixinho', 'coração']\n",
    "lista_len = map(len, lista2)\n",
    "for palavra in lista_len:\n",
    "    print(palavra)\n",
    "\n",
    "#lambda\n",
    "print('\\nlambda:\\n')\n",
    "operacao1_lambda = map(lambda x: x * 2, num)\n",
    "operacao2_lambda = map(lambda x: x + 5, num)\n",
    "operacao3_lambda = map(lambda x: x == 2, num)\n",
    "\n",
    "print('x*2:')\n",
    "for numero in operacao1_lambda:\n",
    "    print(numero)\n",
    "\n",
    "print('\\nx+5:')\n",
    "for numero in operacao2_lambda:\n",
    "    print(numero)\n",
    "    \n",
    "print('\\nx==2')\n",
    "for numero in operacao3_lambda:\n",
    "    print(numero)\n"
   ]
  },
  {
   "cell_type": "code",
   "execution_count": 16,
   "id": "6f4e03bf",
   "metadata": {
    "collapsed": true
   },
   "outputs": [
    {
     "name": "stdout",
     "output_type": "stream",
     "text": [
      "['bom', 'ruim', 'bom', 'médio', 'ruim', 'bom', 'bom', 'ruim', 'bom', 'médio']\n",
      "filmes ruins:  3 \n",
      "filmes médios:  2 \n",
      "filmes bons: 5\n"
     ]
    }
   ],
   "source": [
    "# A função map retorna um iterador, ou seja, um elemento que representa uma sequência de elementos.\n",
    "# Para converter o resultado automaticamente para uma lista, podemos usar o método list() no retorno da função.\n",
    "\n",
    "def categoria(nota):\n",
    "    if nota < 5.0: return 'ruim'\n",
    "    elif 5.0 <= nota <= 7: return 'médio'\n",
    "    else: return 'bom'\n",
    "\n",
    "notas = [9.87, 3.15, 7.53, 6.17, 0.53, 9.55, 7.7, 1.88, 7.9, 6.01]\n",
    "classificacao = list(map(categoria, notas))\n",
    "print(classificacao)\n",
    "\n",
    "# Dividindo o resultado em três grupos usando a função filter\n",
    "# Exemplo: filter(lambda x: x > 5, [2, 4, 6, 8, 10]). Saída: [6, 8, 10]\n",
    "\n",
    "filmes_ruins = list(filter(lambda x: x == 'ruim', classificacao))\n",
    "filmes_medios = list(filter(lambda x: x == 'médio', classificacao))\n",
    "filmes_bons = list(filter(lambda x: x == 'bom', classificacao))\n",
    "\n",
    "print('filmes ruins: ', len(filmes_ruins), '\\nfilmes médios: ', len(filmes_medios), '\\nfilmes bons:', len(filmes_bons))\n",
    "#print('filmes ruins: {ruins} \\nfilmes médios: {medios} \\nfilmes bons: {bons}'\n",
    "#      .format(ruins = len(filmes_ruins), medios = len(filmes_medios), bons = len(filmes_bons)))\n"
   ]
  },
  {
   "cell_type": "code",
   "execution_count": 17,
   "id": "24b57d3e",
   "metadata": {
    "collapsed": true
   },
   "outputs": [
    {
     "name": "stdout",
     "output_type": "stream",
     "text": [
      "True\n",
      "False\n"
     ]
    }
   ],
   "source": [
    "# A função all recebe uma estrutura de dados como argumento e retorna verdadeiro se todos os valores são verdadeiros.\n",
    "\n",
    "valores_verdadeiros = [True, True, True]\n",
    "valores_mistos = [True, False, True]\n",
    "print(all(valores_verdadeiros))\n",
    "print(all(valores_mistos))\n"
   ]
  },
  {
   "cell_type": "code",
   "execution_count": 30,
   "id": "d2ad0254",
   "metadata": {
    "collapsed": true
   },
   "outputs": [
    {
     "name": "stdout",
     "output_type": "stream",
     "text": [
      "True\n",
      "False\n"
     ]
    }
   ],
   "source": [
    "# a função any recebe uma estrutura de dados como argumento e retorna verdadeiro se,\n",
    "# pelo menos, um elemento da lista for verdadeiro.\n",
    "\n",
    "valores_mistos = [False, False, True]\n",
    "valores_falsos = [False, False, False]\n",
    "print(any(valores_mistos))\n",
    "print(any(valores_falsos))"
   ]
  },
  {
   "cell_type": "code",
   "execution_count": 34,
   "id": "f63b3175",
   "metadata": {},
   "outputs": [
    {
     "name": "stdout",
     "output_type": "stream",
     "text": [
      "Existe algum filme ruim na lista? R: True\n",
      "Todos os filmes da lista são bons? R: False\n"
     ]
    }
   ],
   "source": [
    "# Dada uma lista de filmes, deseja-se saber se existe algum filme ruim no meio e saber se todas as notas são boas.\n",
    "\n",
    "novas_categorias = ['bom', 'bom', 'bom', 'ruim', 'bom']\n",
    "filmes_ruins_booleano = list(map(lambda x: x == 'ruim', novas_categorias))\n",
    "print('Existe algum filme ruim na lista? R:', any(filmes_ruins_booleano))\n",
    "\n",
    "filmes_bons_booleano = list(map(lambda x: x == 'bom', novas_categorias))\n",
    "print('Todos os filmes da lista são bons? R:', all(filmes_bons_booleano))\n",
    "\n",
    "#lista_int = [1, 4, 3, 12, 9, 8]\n",
    "#maior_que_10 = list(map(lambda x: x > 10, lista_int))\n",
    "#print(any(maior_que_10))\n"
   ]
  },
  {
   "cell_type": "code",
   "execution_count": null,
   "id": "b8a03731",
   "metadata": {},
   "outputs": [],
   "source": []
  }
 ],
 "metadata": {
  "kernelspec": {
   "display_name": "Python 3",
   "language": "python",
   "name": "python3"
  },
  "language_info": {
   "codemirror_mode": {
    "name": "ipython",
    "version": 3
   },
   "file_extension": ".py",
   "mimetype": "text/x-python",
   "name": "python",
   "nbconvert_exporter": "python",
   "pygments_lexer": "ipython3",
   "version": "3.8.8"
  }
 },
 "nbformat": 4,
 "nbformat_minor": 5
}
