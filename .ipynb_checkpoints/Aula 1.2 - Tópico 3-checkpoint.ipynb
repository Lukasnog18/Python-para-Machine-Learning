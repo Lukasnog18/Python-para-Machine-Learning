{
 "cells": [
  {
   "cell_type": "code",
   "execution_count": 1,
   "id": "8edf0a9e",
   "metadata": {},
   "outputs": [],
   "source": [
    "# Tópico 3 – Logging\n",
    "# - O módulo de registro (logging) fornece um registrador padrão, que permite que você comece a criar\n",
    "# mensagens de log sem precisar fazer muitas configurações. \n",
    "\n",
    "#import logging\n",
    "\n",
    "# Criação e configuração do objeto logger\n",
    "#FORMATACAO_MSG = \"%(asctime)s | %(levelname)s -> %(message)s\"\n",
    "\n",
    "#logging.basicConfig(filename = 'logs.log', level = logging.DEBUG,\n",
    "#                    format = FORMATACAO_MSG, filemode = 'w')\n",
    "#logger = logging.getLogger()\n",
    "\n",
    "# Testando o logger\n",
    "#logger.debug('depuração')\n",
    "#logger.info('informação')\n",
    "#logger.warning('aviso')\n",
    "#logger.error('erro')\n",
    "#logger.critical('crítico')\n"
   ]
  },
  {
   "cell_type": "code",
   "execution_count": 6,
   "id": "fae79852",
   "metadata": {},
   "outputs": [
    {
     "name": "stdout",
     "output_type": "stream",
     "text": [
      "Vamos dividir dois números!\n",
      "Digite o primeiro número: 1\n",
      "Digite o segundo número: 2\n",
      "O resultado é 0.5\n",
      "--------------------------------\n",
      "Vamos dividir dois números!\n",
      "Digite o primeiro número: 2\n",
      "Digite o segundo número: 0\n",
      "É impossível dividir por zero\n",
      "--------------------------------\n",
      "Vamos dividir dois números!\n",
      "Digite o primeiro número: 7\n",
      "Digite o segundo número: a\n",
      "invalid literal for int() with base 10: 'a'\n",
      "Tente novamente\n",
      "--------------------------------\n"
     ]
    }
   ],
   "source": [
    "# A seguir, há o código de um programa que calcula a divisão entre dois números,\n",
    "# repetindo esse processo três vezes até sua finalização.\n",
    "# - Esse código foi feito para termos uma base de como um programa fica sem utilizar técnicas de log.\n",
    "\n",
    "for _ in range(3):\n",
    "    try:\n",
    "        print('Vamos dividir dois números!')\n",
    "        num1 = int(input('Digite o primeiro número: '))\n",
    "        num2 = int(input('Digite o segundo número: '))\n",
    "        print('O resultado é', num1/num2)\n",
    "        \n",
    "    except ZeroDivisionError:\n",
    "        print('É impossível dividir por zero')\n",
    "    \n",
    "    except Exception as erro:\n",
    "        print(erro)\n",
    "        print('Tente novamente')\n",
    "        \n",
    "    finally:\n",
    "        print('--------------------------------')\n"
   ]
  },
  {
   "cell_type": "code",
   "execution_count": 1,
   "id": "d81de912",
   "metadata": {},
   "outputs": [
    {
     "name": "stdout",
     "output_type": "stream",
     "text": [
      "Vamos dividir dois números!\n",
      "Digite o primeiro número: 1\n",
      "Digite o segundo número: 2\n",
      "O resultado é 0.5\n",
      "--------------------------------\n",
      "Vamos dividir dois números!\n",
      "Digite o primeiro número: 2\n",
      "Digite o segundo número: 0\n",
      "É impossível dividir por zero\n",
      "--------------------------------\n",
      "Vamos dividir dois números!\n",
      "Digite o primeiro número: 7\n",
      "Digite o segundo número: a\n",
      "Erro, tente novamente!\n",
      "--------------------------------\n"
     ]
    }
   ],
   "source": [
    "import logging\n",
    "\n",
    "FORMATACAO_MSG = \"%(asctime)s | %(levelname)s -> %(message)s\"\n",
    "\n",
    "logging.basicConfig(filename = 'logs.log', level = logging.DEBUG,\n",
    "                    format = FORMATACAO_MSG, filemode='w')\n",
    "logger = logging.getLogger()\n",
    "\n",
    "logger.info('O programa foi iniciado.')\n",
    "for i in range(3):\n",
    "    try:\n",
    "        logger.debug('Iteração número {0}'.format(i))\n",
    "        print('Vamos dividir dois números!')\n",
    "        \n",
    "        num1 = int(input('Digite o primeiro número: '))\n",
    "        logger.debug('O usuário digitou o primeiro número: {0}'.format(num1))\n",
    "        \n",
    "        num2 = int(input('Digite o segundo número: '))\n",
    "        logger.debug('O usuário digitou o segundo número: {0}'.format(num2))\n",
    "\n",
    "        resultado = num1/num2\n",
    "        print('O resultado é', resultado)\n",
    "        logger.debug('Resultado da operação: {0}'.format(resultado))\n",
    "        \n",
    "    except ZeroDivisionError:\n",
    "        print('É impossível dividir por zero')\n",
    "        logger.warning('O usuário tentou fazer uma divisão por 0')\n",
    "    \n",
    "    except Exception as erro:\n",
    "        print('Erro, tente novamente!')\n",
    "        logger.error('Erro, caractere não esperado -> ' + str(erro))\n",
    "        \n",
    "    finally:\n",
    "        print('--------------------------------')\n",
    "logger.info('O programa foi finalizado.')\n"
   ]
  },
  {
   "cell_type": "code",
   "execution_count": null,
   "id": "f2f51317",
   "metadata": {},
   "outputs": [],
   "source": []
  }
 ],
 "metadata": {
  "kernelspec": {
   "display_name": "Python 3",
   "language": "python",
   "name": "python3"
  },
  "language_info": {
   "codemirror_mode": {
    "name": "ipython",
    "version": 3
   },
   "file_extension": ".py",
   "mimetype": "text/x-python",
   "name": "python",
   "nbconvert_exporter": "python",
   "pygments_lexer": "ipython3",
   "version": "3.8.8"
  }
 },
 "nbformat": 4,
 "nbformat_minor": 5
}
