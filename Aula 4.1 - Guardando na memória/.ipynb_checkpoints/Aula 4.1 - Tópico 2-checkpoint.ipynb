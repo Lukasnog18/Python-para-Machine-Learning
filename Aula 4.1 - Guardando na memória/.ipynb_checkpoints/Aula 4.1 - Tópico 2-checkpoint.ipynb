{
 "cells": [
  {
   "cell_type": "code",
   "execution_count": 10,
   "id": "d35a4f74",
   "metadata": {},
   "outputs": [
    {
     "name": "stdout",
     "output_type": "stream",
     "text": [
      "\n"
     ]
    }
   ],
   "source": [
    "# Tópico 2 - Escrevendo arquivos de texto\n",
    "\n",
    "arq_escrita = open('escrita.txt', 'w', encoding = 'utf-8')\n",
    "arq_escrita.write('Minha terra tem palmeiras\\n')\n",
    "arq_escrita.write('Onde canta o sabiá')\n",
    "arq_escrita.close()\n",
    "\n",
    "# usando seek e truncate\n",
    "arquivo = open('arquivo.txt', 'w', encoding = 'utf-8')\n",
    "arquivo.write('0123456789')\n",
    "arquivo.seek(0)\n",
    "arquivo.write('abcd')\n",
    "arquivo.truncate()\n",
    "arquivo.close()\n",
    "\n",
    "# O método seek tem um segundo parâmetro numérico, que altera o significado do primeiro. Por padrão,\n",
    "# o ponteiro é deslocado para uma posição em relação ao começo do arquivo, mas também é possível fazer\n",
    "# isso a partir do fim do arquivo ou da posição atual. Para mais informações, consulte a documentação:\n",
    "# https://docs.python.org/pt-br/3.7/tutorial/inputoutput.html?highlight=seek#methods-of-file-objects\n"
   ]
  },
  {
   "cell_type": "code",
   "execution_count": null,
   "id": "1260d191",
   "metadata": {},
   "outputs": [],
   "source": []
  }
 ],
 "metadata": {
  "kernelspec": {
   "display_name": "Python 3",
   "language": "python",
   "name": "python3"
  },
  "language_info": {
   "codemirror_mode": {
    "name": "ipython",
    "version": 3
   },
   "file_extension": ".py",
   "mimetype": "text/x-python",
   "name": "python",
   "nbconvert_exporter": "python",
   "pygments_lexer": "ipython3",
   "version": "3.8.8"
  }
 },
 "nbformat": 4,
 "nbformat_minor": 5
}
