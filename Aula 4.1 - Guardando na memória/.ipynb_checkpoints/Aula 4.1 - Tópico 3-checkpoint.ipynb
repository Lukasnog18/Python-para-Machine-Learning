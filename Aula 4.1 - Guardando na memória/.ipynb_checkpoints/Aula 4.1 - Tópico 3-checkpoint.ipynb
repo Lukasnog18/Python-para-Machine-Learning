{
 "cells": [
  {
   "cell_type": "code",
   "execution_count": 1,
   "id": "e8364b47",
   "metadata": {},
   "outputs": [
    {
     "name": "stdout",
     "output_type": "stream",
     "text": [
      "b'Minha terra, tem palmeiras'\n",
      "77\n",
      "105\n",
      "b'Onde canta, o sabi\\xe1'\n",
      "b'Onde canta, o sabi\\xc3\\xa1'\n"
     ]
    }
   ],
   "source": [
    "# Tópico 3 - Notação hexadecimal e codificação de dados\n",
    "\n",
    "verso = 'Minha terra tem palmeiras'\n",
    "verso1 = 'Onde canta o sabiá'\n",
    "verso_bytes = verso.encode('ascii')\n",
    "print(verso_bytes)\n",
    "print(verso_bytes[0])\n",
    "print(verso_bytes[1])\n",
    "print(verso1.encode('cp1252'))\n",
    "print(verso1.encode('utf-8'))\n"
   ]
  },
  {
   "cell_type": "code",
   "execution_count": null,
   "id": "dc31bc4d",
   "metadata": {},
   "outputs": [],
   "source": []
  }
 ],
 "metadata": {
  "kernelspec": {
   "display_name": "Python 3",
   "language": "python",
   "name": "python3"
  },
  "language_info": {
   "codemirror_mode": {
    "name": "ipython",
    "version": 3
   },
   "file_extension": ".py",
   "mimetype": "text/x-python",
   "name": "python",
   "nbconvert_exporter": "python",
   "pygments_lexer": "ipython3",
   "version": "3.8.8"
  }
 },
 "nbformat": 4,
 "nbformat_minor": 5
}
