{
 "cells": [
  {
   "cell_type": "code",
   "execution_count": 22,
   "id": "e5bf9675",
   "metadata": {},
   "outputs": [
    {
     "name": "stdout",
     "output_type": "stream",
     "text": [
      "Minha terra tem palmeiras\n",
      "Onde canta o Sabiá\n",
      "As aves, que aqui gorjeiam,\n",
      "Não gorjeiam como lá.\n",
      "\n",
      "\n",
      "Linha 1: Minha terra tem palmeiras\n",
      "\n",
      "Linha 2: Onde canta o Sabiá\n",
      "\n",
      "Restante: As aves, que aqui gorjeiam,\n",
      "Não gorjeiam como lá.\n",
      "\n",
      "\n",
      "Minha\n",
      "terra\n",
      "11\n"
     ]
    }
   ],
   "source": [
    "# Guardando na memória\n",
    "# Tópico 1 - Lendo arquivos de texto\n",
    "\n",
    "arq = open('poesia1.txt', encoding = 'utf-8')\n",
    "texto = arq.read()\n",
    "print(texto)\n",
    "arq.close()\n",
    "\n",
    "# linha a linha\n",
    "print('\\n')\n",
    "arq = open('poesia1.txt', encoding = 'utf-8')\n",
    "linha1 = arq.readline()\n",
    "linha2 = arq.readline()\n",
    "texto = arq.read()\n",
    "print('Linha 1:', linha1)\n",
    "print('Linha 2:', linha2)\n",
    "print('Restante:', texto)\n",
    "# teste = arq.read()\n",
    "# print(teste)\n",
    "arq.close()\n",
    "\n",
    "# caractere por caractere - usa-se o conceito de ponteiros\n",
    "print('\\n')\n",
    "arq = open('poesia1.txt', encoding = 'utf-8')\n",
    "texto1 = arq.read(5)\n",
    "arq.read(1)\n",
    "texto2 = arq.read(5)\n",
    "print(texto1)\n",
    "print(texto2)\n",
    "print(arq.tell())\n",
    "arq.close()\n",
    "\n",
    "# O ponteiro de arquivo pode apresentar algumas surpresas. Embora a primeira linha do texto,\n",
    "# “Minha terra tem palmeiras”, tenha 25 caracteres, se você usar readline para ler esta linha,\n",
    "# o ponteiro indicará 27. A razão disso é que o Windows utiliza '\\r\\n' para indicar a quebra de linha,\n",
    "# ao invés de apenas '\\n'. O objeto arquivo do Python realiza uma conversão automática durante a\n",
    "# leitura de '\\r\\n' para o formato '\\n’.\n"
   ]
  },
  {
   "cell_type": "code",
   "execution_count": null,
   "id": "4766e303",
   "metadata": {},
   "outputs": [],
   "source": []
  }
 ],
 "metadata": {
  "kernelspec": {
   "display_name": "Python 3",
   "language": "python",
   "name": "python3"
  },
  "language_info": {
   "codemirror_mode": {
    "name": "ipython",
    "version": 3
   },
   "file_extension": ".py",
   "mimetype": "text/x-python",
   "name": "python",
   "nbconvert_exporter": "python",
   "pygments_lexer": "ipython3",
   "version": "3.8.8"
  }
 },
 "nbformat": 4,
 "nbformat_minor": 5
}
