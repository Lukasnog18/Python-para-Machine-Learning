{
 "cells": [
  {
   "cell_type": "code",
   "execution_count": 8,
   "id": "30461fdd",
   "metadata": {},
   "outputs": [
    {
     "name": "stdout",
     "output_type": "stream",
     "text": [
      "Minha terra tem palmeiras\n",
      "Onde canta o Sabiá\n",
      "As aves, que aqui gorjeiam,\n",
      "Não gorjeiam como lá.\n",
      "\n",
      "\n",
      "Minha terra tem palmeiras\r\n",
      "Onde canta o Sabiá\r\n",
      "As aves, que aqui gorjeiam,\r\n",
      "Não gorjeiam como lá.\n",
      "\n",
      "\n"
     ]
    }
   ],
   "source": [
    "# Tópico 4 - Arquivos Binários\n",
    "\n",
    "arq = open('poesia1.txt', 'r', encoding = 'utf-8')\n",
    "texto = arq.read()\n",
    "print(texto)\n",
    "arq.close()\n",
    "\n",
    "print('\\n')\n",
    "arquivo = open('poesia1.txt', 'rb')\n",
    "texto = arquivo.read().decode('utf-8')\n",
    "print(texto)\n",
    "arquivo.close()\n",
    "\n",
    "print('\\n')\n",
    "arq_escrita = open('dados.dat', 'wb')\n",
    "arq_escrita.write('texto de teste'.encode('utf-8'))\n",
    "arq_escrita.close()\n"
   ]
  },
  {
   "cell_type": "code",
   "execution_count": null,
   "id": "4326c96b",
   "metadata": {},
   "outputs": [],
   "source": []
  }
 ],
 "metadata": {
  "kernelspec": {
   "display_name": "Python 3",
   "language": "python",
   "name": "python3"
  },
  "language_info": {
   "codemirror_mode": {
    "name": "ipython",
    "version": 3
   },
   "file_extension": ".py",
   "mimetype": "text/x-python",
   "name": "python",
   "nbconvert_exporter": "python",
   "pygments_lexer": "ipython3",
   "version": "3.8.8"
  }
 },
 "nbformat": 4,
 "nbformat_minor": 5
}
