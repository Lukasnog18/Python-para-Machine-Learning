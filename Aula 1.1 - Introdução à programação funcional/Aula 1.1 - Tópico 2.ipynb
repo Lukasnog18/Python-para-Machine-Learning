{
 "cells": [
  {
   "cell_type": "code",
   "execution_count": 4,
   "id": "69fa4d2b",
   "metadata": {
    "collapsed": true
   },
   "outputs": [
    {
     "name": "stdout",
     "output_type": "stream",
     "text": [
      "3\n",
      "Olá mundo!\n"
     ]
    }
   ],
   "source": [
    "# Tópico 2 – Funções Anônimas\n",
    "\n",
    "# Funções Lambda\n",
    "\n",
    "f1 = lambda a,b: a+b\n",
    "f2 = lambda x: x[0].upper() + x[1:]\n",
    "\n",
    "print(f1(1,2))\n",
    "print(f2('olá mundo!'))\n"
   ]
  },
  {
   "cell_type": "code",
   "execution_count": 5,
   "id": "e1fd47e9",
   "metadata": {
    "collapsed": true
   },
   "outputs": [
    {
     "name": "stdout",
     "output_type": "stream",
     "text": [
      "primeiro grupo:  [75, 99]\n",
      "segundo grupo:  [60, 72]\n",
      "terceiro grupo:  [30, 45]\n"
     ]
    }
   ],
   "source": [
    "# Funções Lambda como parâmetro\n",
    "\n",
    "idades = [30, 45, 60, 72, 75, 99]\n",
    "\n",
    "\n",
    "def filtrar(lista, criterio):\n",
    "    nova_lista = []\n",
    "    for elemento in lista:\n",
    "        if criterio(elemento):\n",
    "            nova_lista.append(elemento)\n",
    "            \n",
    "    return nova_lista\n",
    "\n",
    "\n",
    "print(\"primeiro grupo: \", filtrar(idades, lambda x: x >= 75))\n",
    "print(\"segundo grupo: \", filtrar(idades, lambda x: 60 <= x <= 74))\n",
    "print(\"terceiro grupo: \", filtrar(idades, lambda x: x <= 59))\n"
   ]
  },
  {
   "cell_type": "code",
   "execution_count": 2,
   "id": "95b6c3f9",
   "metadata": {
    "collapsed": true
   },
   "outputs": [
    {
     "name": "stdout",
     "output_type": "stream",
     "text": [
      "[1, 5, 6, 19, 20]\n",
      "['e', 'funcional', 'legal', 'programacao']\n"
     ]
    }
   ],
   "source": [
    "# A função sorted é uma função que ordena um grupo de elementos. Se eles forem números, serão ordenados do menor para o maior. \n",
    "# Se forem palavras, serão ordenadas alfabeticamente.\n",
    "\n",
    "print(sorted([20, 1, 5, 19, 6]))\n",
    "print(sorted(['programacao', 'funcional', 'e', 'legal']))\n"
   ]
  },
  {
   "cell_type": "code",
   "execution_count": 6,
   "id": "8185f7f5",
   "metadata": {
    "collapsed": true
   },
   "outputs": [
    {
     "name": "stdout",
     "output_type": "stream",
     "text": [
      "['e', 'legal', 'funcional', 'programacao']\n"
     ]
    }
   ],
   "source": [
    "# Suponha que queremos ordenar a lista de palavras pelo tamanho delas, ao invés de ser pela ordem alfabética.\n",
    "# Utilizaremos o argumento key. O argumento key recebe uma função que indica o critério pelo qual devemos ordenar.\n",
    "\n",
    "print(sorted(['programacao', 'funcional', 'e', 'legal'], key= lambda x: len(x)))\n"
   ]
  }
 ],
 "metadata": {
  "kernelspec": {
   "display_name": "Python 3",
   "language": "python",
   "name": "python3"
  },
  "language_info": {
   "codemirror_mode": {
    "name": "ipython",
    "version": 3
   },
   "file_extension": ".py",
   "mimetype": "text/x-python",
   "name": "python",
   "nbconvert_exporter": "python",
   "pygments_lexer": "ipython3",
   "version": "3.8.8"
  }
 },
 "nbformat": 4,
 "nbformat_minor": 5
}
