{
 "cells": [
  {
   "cell_type": "code",
   "execution_count": 1,
   "id": "4c62f71c",
   "metadata": {},
   "outputs": [
    {
     "name": "stdout",
     "output_type": "stream",
     "text": [
      "<re.Match object; span=(4, 8), match='rino'>\n",
      "<re.Match object; span=(4, 6), match='ri'>\n",
      "rino\n",
      "None\n"
     ]
    }
   ],
   "source": [
    "# Tópico 2 – Expressões regulares\n",
    "\n",
    "import re\n",
    "\n",
    "palavra = r'otorrinolaringologista 816'\n",
    "\n",
    "print(re.search(r'rino', palavra))\n",
    "\n",
    "print(re.search(r'ri', palavra))\n",
    "\n",
    "print(re.search(r'rino', palavra).group())\n",
    "\n",
    "print(re.search(r'100', palavra))\n"
   ]
  },
  {
   "cell_type": "code",
   "execution_count": 6,
   "id": "30535da1",
   "metadata": {},
   "outputs": [
    {
     "name": "stdout",
     "output_type": "stream",
     "text": [
      "<re.Match object; span=(23, 25), match='46'>\n",
      "['46', '93', '20', '63', '92', '89', '42', '01', '74', '11', '61', '47', '40', '48', '95']\n",
      "['(46)', '(89)', '(61)']\n"
     ]
    }
   ],
   "source": [
    "# Como você faria para extrair os números de telefone com os seus respectivos DDDs, a partir da string apresentada?\n",
    "# Bom, primeiro você deve tentar buscar somente o DDD de cada número.\n",
    "\n",
    "# Laura Maria da Silva\n",
    "# (46) 93201-6392\n",
    "# (89) 42010-7411\n",
    "# (61) 47405-4895\n",
    "# Rua José Geraldo\n",
    "# lauramaria@hotmail.com\n",
    "# Le@d Dell Technologies\n",
    "\n",
    "import re\n",
    "\n",
    "palavra = (r'Laura Maria da Silva\\n(46) 93201-6392\\n(89) 42010-7411\\n(61) 47405-4895\\n' + \n",
    "           r'Rua José Geraldo\\nlauramaria@hotmail.com\\nLe@d Dell Technologies')\n",
    "\n",
    "print(re.search(r'[0-9][0-9]', palavra))\n",
    "\n",
    "# print(re.search(r'\\d\\d', palavra))\n",
    "\n",
    "print(re.findall(r'[0-9][0-9]', palavra))\n",
    "\n",
    "print(re.findall(r'\\W[0-9][0-9]\\W', palavra))\n"
   ]
  },
  {
   "cell_type": "code",
   "execution_count": 2,
   "id": "2e4b148f",
   "metadata": {},
   "outputs": [
    {
     "name": "stdout",
     "output_type": "stream",
     "text": [
      "['(46)', '(89)', '(61)']\n",
      "['(46)', '(89)', '(61)']\n"
     ]
    }
   ],
   "source": [
    "# Quantificadores\n",
    "\n",
    "import re\n",
    "\n",
    "palavra = (r'Laura Maria da Silva\\n(46) 93201-6392\\n(89) 42010-7411\\n(61) 47405-4895\\n' + \n",
    "           r'Rua José Geraldo\\nlauramaria@hotmail.com\\nLe@d Dell Technologies')\n",
    "print(re.findall(r'\\W\\d\\d\\W', palavra))\n",
    "\n",
    "print(re.findall(r'\\W\\d{2}\\W', palavra))\n",
    "\n",
    "# print(re.findall(r'\\W\\d+\\W', palavra))\n"
   ]
  },
  {
   "cell_type": "code",
   "execution_count": 3,
   "id": "17d11333",
   "metadata": {},
   "outputs": [
    {
     "name": "stdout",
     "output_type": "stream",
     "text": [
      "['93201-6392', '42010-7411', '47405-4895']\n",
      "['(46) 93201-6392', '(89) 42010-7411', '(61) 47405-4895']\n"
     ]
    }
   ],
   "source": [
    "# Juntando os dois e recuperando o DDD + telefone\n",
    "\n",
    "import re\n",
    "\n",
    "palavra = (r'Laura Maria da Silva\\n(46) 93201-6392\\n(89) 42010-7411\\n(61) 47405-4895\\n' + \n",
    "           r'Rua José Geraldo\\nlauramaria@hotmail.com\\nLe@d Dell Technologies')\n",
    "\n",
    "print(re.findall(r'\\d{5}\\W\\d{4}', palavra))\n",
    "\n",
    "print(re.findall(r'\\W\\d{2}\\W\\s\\d{5}\\W\\d{4}', palavra))\n"
   ]
  },
  {
   "cell_type": "code",
   "execution_count": 2,
   "id": "9ee0183c",
   "metadata": {},
   "outputs": [
    {
     "name": "stdout",
     "output_type": "stream",
     "text": [
      "['(46) 93201-6392', '42010-7411', '(61) 47405-4895']\n",
      "['98594-0305', '97666-9377']\n"
     ]
    }
   ],
   "source": [
    "# Encontrando DDD + telefone ou '|' somente o telefone, para casos em que o DDD não é inserido\n",
    "\n",
    "import re\n",
    "\n",
    "palavra = (r'Laura Maria da Silva\\n(46) 93201-6392\\n42010-7411\\n(61) 47405-4895\\n' + \n",
    "           r'Rua José Geraldo\\nlauramaria@hotmail.com\\nLe@d Dell Technologies')\n",
    "\n",
    "print(re.findall(r'\\W\\d{2}\\W\\s\\d{5}\\W\\d{4}|\\d{5}\\W\\d{4}', palavra))\n",
    "\n",
    "# lista = r'0800-001-0031, 3497-1814, 98594-0305, (39) 97666-9377 e 61900-010'\n",
    "# print(re.findall(r'\\d{5}\\W\\d{4}', lista))\n"
   ]
  },
  {
   "cell_type": "code",
   "execution_count": 5,
   "id": "87b5e18d",
   "metadata": {},
   "outputs": [
    {
     "name": "stdout",
     "output_type": "stream",
     "text": [
      "['contato@', 'franciscojose@', 'ana.julia@', 'francisca-321-aline@', 'Le@']\n",
      "['@dellead.', '@yahoo.', '@universidade.', '@meu-trabalho.']\n",
      "['@dellead.com', '@yahoo.com.br', '@universidade.edu', '@meu-trabalho.net']\n",
      "['contato@dellead.com', 'franciscojose@yahoo.com.br', 'ana.julia@universidade.edu', 'francisca-321-aline@meu-trabalho.net']\n"
     ]
    }
   ],
   "source": [
    "# Expressão regular para buscar os e-mails válidos em uma string\n",
    "\n",
    "import re\n",
    "\n",
    "palavra = (r'contato@dellead.com, franciscojose@yahoo.com.br, ana.julia@universidade.edu, ' +\n",
    "           r'francisca-321-aline@meu-trabalho.net, Le@d Dell Technologies')\n",
    "\n",
    "print(re.findall(r'[a-zA-Z0-9_.-]+@', palavra))\n",
    "\n",
    "print(re.findall(r'@[a-zA-Z0-9-]+\\.', palavra))\n",
    "\n",
    "print(re.findall(r'@[a-zA-Z0-9-]+\\.[a-zA-Z0-9-.]+', palavra))\n",
    "\n",
    "print(re.findall(r'[a-zA-Z0-9_.-]+@[a-zA-Z0-9-]+\\.[a-zA-Z0-9-.]+', palavra))\n"
   ]
  },
  {
   "cell_type": "code",
   "execution_count": null,
   "id": "c2170c38",
   "metadata": {},
   "outputs": [],
   "source": []
  }
 ],
 "metadata": {
  "kernelspec": {
   "display_name": "Python 3",
   "language": "python",
   "name": "python3"
  },
  "language_info": {
   "codemirror_mode": {
    "name": "ipython",
    "version": 3
   },
   "file_extension": ".py",
   "mimetype": "text/x-python",
   "name": "python",
   "nbconvert_exporter": "python",
   "pygments_lexer": "ipython3",
   "version": "3.8.8"
  }
 },
 "nbformat": 4,
 "nbformat_minor": 5
}
