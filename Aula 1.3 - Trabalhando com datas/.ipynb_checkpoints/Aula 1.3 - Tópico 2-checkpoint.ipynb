{
 "cells": [
  {
   "cell_type": "code",
   "execution_count": 15,
   "id": "ec107641",
   "metadata": {},
   "outputs": [
    {
     "name": "stdout",
     "output_type": "stream",
     "text": [
      "2021-12-11 11/12/2021\n",
      "12 2021\n",
      "No padrão americano: 12 - 11 - 2021\n",
      "11 of dezembro of 2021, is a sábado. É o dia 345 da semana 49 do ano 21\n",
      "11 de dezembro de 2021, é um(a) sábado.\n"
     ]
    }
   ],
   "source": [
    "# Tópico 2 – Convertendo Datas e Strings\n",
    "# - Neste tópico, aprenda sobre os métodos strftime e strptime para converter de datas em strings\n",
    "# e vice e versa. Estes métodos estão presentes tanto na classe date quanto na datetime.\n",
    "\n",
    "from datetime import date, datetime, timedelta\n",
    "import locale\n",
    "\n",
    "hoje = date(2021, 12, 11)\n",
    "print(hoje, hoje.strftime('%d/%m/%Y'))\n",
    "print(hoje.strftime('%m %Y'))\n",
    "print(hoje.strftime('No padrão americano: ' + '%m - %d - %Y'))\n",
    "\n",
    "# Usando outros formatadores\n",
    "print(hoje.strftime('%d of %B of %Y, is a %A.' + ' É o dia %j da semana %W do ano %y'))\n",
    "\n",
    "locale.setlocale(locale.LC_ALL, 'pt_BR')\n",
    "print(hoje.strftime('%d de %B de %Y, é um(a) %A.'))\n"
   ]
  },
  {
   "cell_type": "code",
   "execution_count": 21,
   "id": "7b46125b",
   "metadata": {},
   "outputs": [
    {
     "name": "stdout",
     "output_type": "stream",
     "text": [
      "A hora atual é 01:29:20\n"
     ]
    }
   ],
   "source": [
    "# Agora vamos focar nos argumentos de tempo, como horas, minutos e segundos.\n",
    "# https://docs.python.org/pt-br/3/library/datetime.html#strftime-and-strptime-format-codes\n",
    "\n",
    "from datetime import date, datetime\n",
    "\n",
    "hoje = datetime(2021, 12, 11, 1, 29, 20)\n",
    "print(hoje.strftime('A hora atual é %H:%M:%S'))\n",
    "\n",
    "\n"
   ]
  },
  {
   "cell_type": "code",
   "execution_count": 31,
   "id": "5e1a7721",
   "metadata": {},
   "outputs": [
    {
     "name": "stdout",
     "output_type": "stream",
     "text": [
      "1990-02-01 00:00:00\n",
      "1900-04-02 00:00:00\n",
      "1900-01-01 20:30:05\n",
      "2010-03-25 20:30:05\n"
     ]
    }
   ],
   "source": [
    "# Transformando strings em datas\n",
    "\n",
    "from datetime import date, datetime\n",
    "import locale\n",
    "\n",
    "locale.setlocale(locale.LC_ALL, 'pt_BR')\n",
    "\n",
    "data_nascimento = '01/02/1990'\n",
    "data = datetime.strptime(data_nascimento, '%d/%m/%Y')\n",
    "print(data)\n",
    "\n",
    "string1 = '02 de Abril de 1900'\n",
    "data1 = datetime.strptime(string1, '%d de %B de %Y')\n",
    "print(data1)\n",
    "\n",
    "string2 = 'O alarme toca segunda-feira às 20:30:05'\n",
    "data2 = datetime.strptime(string2, 'O alarme toca %A às %H:%M:%S')\n",
    "print(data2)\n",
    "\n",
    "string3 = 'Dia 25 de março de 2010, o alarme não tocou às 20:30:05'\n",
    "data3 = datetime.strptime(string3, 'Dia %d de %B de %Y, o alarme não tocou às %H:%M:%S')\n",
    "print(data3)\n"
   ]
  },
  {
   "cell_type": "code",
   "execution_count": null,
   "id": "9191e107",
   "metadata": {},
   "outputs": [],
   "source": []
  }
 ],
 "metadata": {
  "kernelspec": {
   "display_name": "Python 3",
   "language": "python",
   "name": "python3"
  },
  "language_info": {
   "codemirror_mode": {
    "name": "ipython",
    "version": 3
   },
   "file_extension": ".py",
   "mimetype": "text/x-python",
   "name": "python",
   "nbconvert_exporter": "python",
   "pygments_lexer": "ipython3",
   "version": "3.8.8"
  }
 },
 "nbformat": 4,
 "nbformat_minor": 5
}
