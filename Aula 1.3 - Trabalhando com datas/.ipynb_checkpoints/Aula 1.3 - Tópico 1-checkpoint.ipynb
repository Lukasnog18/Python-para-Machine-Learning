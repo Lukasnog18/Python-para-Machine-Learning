{
 "cells": [
  {
   "cell_type": "code",
   "execution_count": 4,
   "id": "f06fcf7f",
   "metadata": {},
   "outputs": [
    {
     "name": "stdout",
     "output_type": "stream",
     "text": [
      "2021-12-11\n",
      "2021-01-01\n",
      "2021\n",
      "1\n",
      "1\n"
     ]
    }
   ],
   "source": [
    "# Trabalhando com datas\n",
    "# Tópico 1 – Conhecendo o Módulo Datetime\n",
    "\n",
    "from datetime import date\n",
    "\n",
    "# print(date)\n",
    "\n",
    "hoje = date.today()\n",
    "print(hoje)\n",
    "\n",
    "dia_primeiro = date(2021, 1, 1)\n",
    "print(dia_primeiro)\n",
    "\n",
    "print(dia_primeiro.year)\n",
    "print(dia_primeiro.month)\n",
    "print(dia_primeiro.day)\n",
    "\n",
    "\n"
   ]
  },
  {
   "cell_type": "code",
   "execution_count": 14,
   "id": "1915bd54",
   "metadata": {},
   "outputs": [
    {
     "name": "stdout",
     "output_type": "stream",
     "text": [
      "O BBB iniciou em 2021-01-25 e terminou em 2021-05-04\n",
      "True\n",
      "False\n",
      "a duração do BBB 21 foi de 100 dias.\n",
      "<class 'datetime.timedelta'>\n",
      "-12\n"
     ]
    }
   ],
   "source": [
    "# Trabalhando com intervalo de datas, usando como exemplo a duração do BBB 21\n",
    "\n",
    "from datetime import date\n",
    "\n",
    "data_inicio = date(2021, 1, 25)\n",
    "data_fim = date(2021, 5, 4)\n",
    "print(f'O BBB iniciou em {data_inicio} e terminou em {data_fim}')\n",
    "\n",
    "print(data_inicio < data_fim)\n",
    "print(data_inicio > data_fim)\n",
    "\n",
    "diferenca_dias = data_fim - data_inicio\n",
    "duracao = diferenca_dias.days + 1\n",
    "print(f'a duração do BBB 21 foi de {duracao} dias.')\n",
    "\n",
    "print(type(diferenca_dias))\n",
    "\n",
    "diff = date(2021, 1, 2) - date(2021, 1, 14)\n",
    "print(diff.days)\n"
   ]
  },
  {
   "cell_type": "code",
   "execution_count": 44,
   "id": "262ccdcd",
   "metadata": {},
   "outputs": [
    {
     "name": "stdout",
     "output_type": "stream",
     "text": [
      "Daqui a 28 dias será 2022-01-08\n",
      "Desde 2022-01-08 passaram 28 dias\n",
      "Daqui a 12 semanas será 2022-03-05\n",
      "Desde 2022-03-05 passaram 2 meses e 24 dias\n"
     ]
    }
   ],
   "source": [
    "# Somar dias a alguma data\n",
    "\n",
    "from datetime import date, timedelta\n",
    "\n",
    "# Coronavac\n",
    "primeira_dose = date(2021, 12, 11)\n",
    "intervalo = timedelta(days = 28)\n",
    "segunda_dose = primeira_dose + intervalo\n",
    "print(f'Daqui a 28 dias será {segunda_dose}')\n",
    "diff = segunda_dose - primeira_dose\n",
    "days = diff.days\n",
    "# years, days = days // 365, days % 365\n",
    "months, days = days // 30, days % 30\n",
    "print(f\"Desde {segunda_dose} passaram {days} dias\")\n",
    "\n",
    "# Astrazeneca\n",
    "primeira_dose = date(2021, 12, 11)\n",
    "intervalo = timedelta(weeks = 12)\n",
    "segunda_dose = primeira_dose + intervalo\n",
    "print(f'Daqui a 12 semanas será {segunda_dose}')\n",
    "diff = segunda_dose - primeira_dose\n",
    "days = diff.days\n",
    "months, days = days // 30, days % 30\n",
    "print(f\"Desde {segunda_dose} passaram {months} meses e {days} dias\")\n"
   ]
  },
  {
   "cell_type": "code",
   "execution_count": 22,
   "id": "e647cb06",
   "metadata": {},
   "outputs": [
    {
     "name": "stdout",
     "output_type": "stream",
     "text": [
      "[datetime.date(2012, 7, 2), datetime.date(2012, 10, 24), datetime.date(2013, 5, 29), datetime.date(2016, 7, 6), datetime.date(2018, 9, 2), datetime.date(2018, 9, 5), datetime.date(2019, 1, 19), datetime.date(2020, 3, 19), datetime.date(2021, 8, 12), datetime.date(2021, 8, 24)]\n",
      "\n",
      "\n",
      "[datetime.date(2019, 1, 19), datetime.date(2020, 3, 19), datetime.date(2013, 5, 29), datetime.date(2016, 7, 6), datetime.date(2012, 7, 2), datetime.date(2021, 8, 24), datetime.date(2021, 8, 12), datetime.date(2018, 9, 2), datetime.date(2018, 9, 5), datetime.date(2012, 10, 24)]\n",
      "\n",
      "\n",
      "[datetime.date(2018, 9, 2), datetime.date(2012, 7, 2), datetime.date(2018, 9, 5), datetime.date(2016, 7, 6), datetime.date(2021, 8, 12), datetime.date(2020, 3, 19), datetime.date(2019, 1, 19), datetime.date(2012, 10, 24), datetime.date(2021, 8, 24), datetime.date(2013, 5, 29)]\n",
      "\n",
      "\n",
      "[datetime.date(2019, 1, 19), datetime.date(2020, 3, 19), datetime.date(2013, 5, 29), datetime.date(2012, 7, 2), datetime.date(2016, 7, 6), datetime.date(2021, 8, 12), datetime.date(2021, 8, 24), datetime.date(2018, 9, 2), datetime.date(2018, 9, 5), datetime.date(2012, 10, 24)]\n"
     ]
    }
   ],
   "source": [
    "# Como ordenar listas de datas\n",
    "\n",
    "datas = [date(2016, 7, 6), date(2012, 10, 24), date(2020, 3, 19), \n",
    "         date(2021, 8, 24), date(2021, 8, 12), date(2013, 5, 29), \n",
    "         date(2018, 9, 2), date(2019, 1, 19), date(2012, 7, 2), date(2018, 9, 5)]\n",
    "\n",
    "print(sorted(datas))\n",
    "print('\\n')\n",
    "print(sorted(datas, key = lambda m: m.month))\n",
    "print('\\n')\n",
    "print(sorted(datas, key = lambda d: d.day))\n",
    "print('\\n')\n",
    "print(sorted(datas, key = lambda x: (x.month, x.day)))\n"
   ]
  },
  {
   "cell_type": "code",
   "execution_count": 39,
   "id": "e8580842",
   "metadata": {},
   "outputs": [
    {
     "name": "stdout",
     "output_type": "stream",
     "text": [
      "2021-12-11 23:03:55.900234\n",
      "2021-05-15 18:01:59.123456 2021-05-15 18:01:59 2021-05-15 18:01:00 2021-05-15 18:00:00 2021-05-15 00:00:00\n",
      "4 5\n",
      "01 de Janeiro de 2021 é o dia 4 da semana, logo uma sexta-feira.\n",
      "\n",
      "\n",
      "[datetime.datetime(2021, 5, 24, 20, 30), datetime.datetime(2021, 5, 25, 20, 30), datetime.datetime(2021, 5, 26, 20, 30), datetime.datetime(2021, 5, 27, 20, 30), datetime.datetime(2021, 5, 28, 20, 30), datetime.datetime(2021, 5, 29, 20, 30), datetime.datetime(2021, 5, 30, 20, 30)]\n",
      "7 dias\n",
      "\n",
      " [datetime.datetime(2021, 5, 24, 20, 30), datetime.datetime(2021, 5, 25, 21, 30), datetime.datetime(2021, 5, 26, 20, 30), datetime.datetime(2021, 5, 27, 21, 30), datetime.datetime(2021, 5, 28, 20, 30), datetime.datetime(2021, 5, 29, 20, 30), datetime.datetime(2021, 5, 30, 20, 30)]\n"
     ]
    }
   ],
   "source": [
    "# Vamos estudar agora o tipo datetime que, além de armazenar datas, como a classe date,\n",
    "# armazena a hora também.\n",
    "\n",
    "from datetime import datetime, timedelta\n",
    "\n",
    "hora_atual = datetime.now()\n",
    "print(hora_atual)\n",
    "\n",
    "# Criando objetos datetime\n",
    "d1 = datetime(2021, 5, 15, 18, 1, 59, 123456)\n",
    "d2 = datetime(2021, 5, 15, 18, 1, 59)\n",
    "d3 = datetime(2021, 5, 15, 18, 1)\n",
    "d4 = datetime(2021, 5, 15, 18)\n",
    "d5 = datetime(2021, 5, 15)\n",
    "print(d1, d2, d3, d4, d5)\n",
    "\n",
    "# Como acessar os atributos de um objeto datetime\n",
    "# - weekday e isoweekday. A diferença é que os valores da primeira função vão de 0 a 6,\n",
    "# e os da segunda função variam entre 1 e 7.\n",
    "\n",
    "dia_primeiro = datetime(2021, 1, 1)\n",
    "print(dia_primeiro.weekday(), dia_primeiro.isoweekday())\n",
    "print(f'01 de Janeiro de 2021 é o dia {dia_primeiro.weekday()} da semana, logo uma sexta-feira.')\n",
    "\n",
    "# Aprenda ainda mais sobre como aplicar o datetime com a seguinte aplicação: suponha que você\n",
    "# gosta muito de estudar Python e decidiu colocar seus conhecimentos de datas e horas em prática.\n",
    "# Então, você vai criar um programa que toca um alarme às 20:30h e um depois de 30 segundos.\n",
    "# Só que você lembrou que tem um compromisso às terças e quintas. Portanto, você deve mudar a hora\n",
    "# do alarme para às 21:30h.\n",
    "\n",
    "print('\\n')\n",
    "# Data inicial - segunda-feira\n",
    "inicio = datetime(2021, 5, 24, 20, 30)\n",
    "\n",
    "semana = [inicio]\n",
    "for i in range(1, 7):\n",
    "    dia_seguinte = inicio + timedelta(days = i)\n",
    "    semana.append(dia_seguinte)\n",
    "print(semana)\n",
    "print(len(semana), 'dias')\n",
    "\n",
    "# Depois, é preciso modificar as horas dos dias 25 e 27, pois eles correspondem à terça-feira\n",
    "# e à quinta-feira, respectivamente.\n",
    "\n",
    "def muda_horario(dia):\n",
    "    if dia.weekday() == 1 or dia.weekday() == 3:\n",
    "        return dia.replace(hour = 21)\n",
    "    else: return dia\n",
    "    \n",
    "semana_atualizada = list(map(muda_horario, semana))\n",
    "print('\\n', semana_atualizada)\n",
    "\n",
    "# Suponha que você tem um amigo que mora nos Estados Unidos e que quer estudar Python com você.\n",
    "# O problema é que quando for 20:30h na sua cidade, será outro horário para ele, devido ao fuso\n",
    "# horário. \n"
   ]
  },
  {
   "cell_type": "code",
   "execution_count": null,
   "id": "e46cfa9b",
   "metadata": {},
   "outputs": [],
   "source": []
  }
 ],
 "metadata": {
  "kernelspec": {
   "display_name": "Python 3",
   "language": "python",
   "name": "python3"
  },
  "language_info": {
   "codemirror_mode": {
    "name": "ipython",
    "version": 3
   },
   "file_extension": ".py",
   "mimetype": "text/x-python",
   "name": "python",
   "nbconvert_exporter": "python",
   "pygments_lexer": "ipython3",
   "version": "3.8.8"
  }
 },
 "nbformat": 4,
 "nbformat_minor": 5
}
