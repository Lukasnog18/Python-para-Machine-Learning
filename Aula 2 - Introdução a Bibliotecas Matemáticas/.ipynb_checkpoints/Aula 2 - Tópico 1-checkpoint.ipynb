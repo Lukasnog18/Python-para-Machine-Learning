{
 "cells": [
  {
   "cell_type": "code",
   "execution_count": 23,
   "id": "a0d57ea3",
   "metadata": {},
   "outputs": [
    {
     "name": "stdout",
     "output_type": "stream",
     "text": [
      "0.5780913011344704\n",
      "0.20609823213950174\n",
      "0.81332125135732\n",
      "\n",
      "\n",
      "18.235888725334455\n",
      "16.534725339011757\n",
      "\n",
      "\n",
      "11.602295565188196\n"
     ]
    }
   ],
   "source": [
    "# Introdução a Bibliotecas Matemáticas\n",
    "# Tópico 1 – Módulo Random\n",
    "\n",
    "import random\n",
    "\n",
    "# random gera um número aleatório entre 0 e 1\n",
    "print(random.random())\n",
    "print(random.random())\n",
    "print(random.random())\n",
    "\n",
    "def funcao_random(numero_min, numero_max):\n",
    "    diferenca = numero_max - numero_min\n",
    "    return diferenca * random.random() + numero_min\n",
    "\n",
    "print('\\n')\n",
    "print(funcao_random(10, 20))\n",
    "print(funcao_random(10, 20))\n",
    "\n",
    "# Usando a função já pré-definida\n",
    "print('\\n')\n",
    "print(random.uniform(10, 20))\n"
   ]
  },
  {
   "cell_type": "code",
   "execution_count": 22,
   "id": "487c0518",
   "metadata": {},
   "outputs": [
    {
     "name": "stdout",
     "output_type": "stream",
     "text": [
      "0.5714025946899135\n",
      "0.4288890546751146\n",
      "\n",
      "\n",
      "0.9664535356921388\n",
      "0.4407325991753527\n",
      "\n",
      "\n",
      "0.5714025946899135\n",
      "0.4288890546751146\n"
     ]
    }
   ],
   "source": [
    "# Bem, como os números aleatórios são criados por meio de uma fórmula matemática, essa fórmula\n",
    "# precisa de um número qualquer que vai dar início à geração dos próximos números aleatórios,\n",
    "# chamado de semente. Para passar um número pré-definido de semente, você pode utilizar a função\n",
    "# seed (‘semente’ em inglês), como mostra o seguinte código.\n",
    "\n",
    "import random\n",
    "\n",
    "random.seed(10)\n",
    "print(random.random())\n",
    "print(random.random())\n",
    "\n",
    "random.seed(1234)\n",
    "print('\\n')\n",
    "print(random.random())\n",
    "print(random.random())\n",
    "\n",
    "random.seed(10)\n",
    "print('\\n')\n",
    "print(random.random())\n",
    "print(random.random())\n",
    "\n",
    "\n"
   ]
  },
  {
   "cell_type": "code",
   "execution_count": 26,
   "id": "3d587207",
   "metadata": {},
   "outputs": [
    {
     "name": "stdout",
     "output_type": "stream",
     "text": [
      "1.5570857902729596\n"
     ]
    }
   ],
   "source": [
    "# vamos gerar um número aleatório com a mesma probabilidade da distribuição vermelha. \n",
    "# (veja mais no arquivo docx)\n",
    "# No módulo Random existe a função normalvariate (μ, σ), que simula a distribuição normal.\n",
    "\n",
    "import random\n",
    "\n",
    "print(random.normalvariate(0, 1))\n"
   ]
  },
  {
   "cell_type": "code",
   "execution_count": 4,
   "id": "647aac41",
   "metadata": {},
   "outputs": [
    {
     "name": "stdout",
     "output_type": "stream",
     "text": [
      "6\n",
      "3\n",
      "4\n"
     ]
    }
   ],
   "source": [
    "# Podemos gerar um número inteiro aleatório em Python com a função randint(a, b), que retorna\n",
    "# um inteiro aleatório N de forma que a <= N <= b. Como exemplo, vamos usar essa função para\n",
    "# simular a jogada de um dado, ou seja, em um intervalo entre 1 e 6.\n",
    "\n",
    "import random\n",
    "\n",
    "print(random.randint(1, 6))\n",
    "print(random.randint(1, 6))\n",
    "\n",
    "# Outra forma de simular a rolagem dos dados é utilizando a função choice, que tem como parâmetro\n",
    "# uma lista e retorna um elemento aleatório dessa lista. Se a lista estiver vazia, um erro é retornado.\n",
    "\n",
    "dado = [1, 2, 3, 4, 5, 6]\n",
    "print(random.choice(dado))\n",
    "# print(random.choice([]))\n",
    "\n",
    "# https://pt.wikipedia.org/wiki/Especial:Aleat%C3%B3ria_na_Categoria/Categoria:!Artigos_destacados\n"
   ]
  },
  {
   "cell_type": "code",
   "execution_count": 42,
   "id": "2227050b",
   "metadata": {},
   "outputs": [
    {
     "name": "stdout",
     "output_type": "stream",
     "text": [
      "[6]\n",
      "[6, 5, 4, 4, 6, 4, 1, 5, 3, 1]\n"
     ]
    }
   ],
   "source": [
    "# Agora que já conseguimos simular o lançamento de um dado, verifique como podemos burlar \n",
    "# a probabilidade de sair um valor qualquer no dado.\n",
    "\n",
    "import random\n",
    "\n",
    "dado = [1, 2, 3, 4, 5, 6]\n",
    "pesos = [1, 1, 1, 1, 2, 4]\n",
    "\n",
    "print(random.choices(dado, weights = pesos))\n",
    "print(random.choices(dado, weights = pesos, k = 10))\n",
    "\n"
   ]
  },
  {
   "cell_type": "code",
   "execution_count": 39,
   "id": "74cd880c",
   "metadata": {},
   "outputs": [
    {
     "name": "stdout",
     "output_type": "stream",
     "text": [
      "['Ás de Copas', '10 de Copas', 'Valete de Copas', '2 de Copas', 'Rei de Copas', '4 de Copas', '5 de Copas', '6 de Copas', '9 de Copas', 'Dama de Copas', '3 de Copas', '7 de Copas', '8 de Copas']\n",
      "\n",
      "\n",
      "['10 de Copas', '8 de Copas']\n",
      "['Ás de Copas', '8 de Copas']\n"
     ]
    }
   ],
   "source": [
    "# Embaralhamento, vamos utilizar a função Shuffle.\n",
    "\n",
    "import random\n",
    "\n",
    "baralho = ['Ás de Copas', '2 de Copas', '3 de Copas', '4 de Copas', '5 de Copas', '6 de Copas',\n",
    "           '7 de Copas', '8 de Copas', '9 de Copas', '10 de Copas', 'Valete de Copas',\n",
    "           'Dama de Copas', 'Rei de Copas']\n",
    "\n",
    "random.shuffle(baralho)\n",
    "print(baralho)\n",
    "\n",
    "\n",
    "print('\\n')\n",
    "# Amostragem com reposição, onde o elemento pode ser retornado mais de uma vez. Usa-se choices.\n",
    "print(random.choices(baralho, k = 2))\n",
    "\n",
    "# Amostragem sem reposição, onde o elemento só pode ser retornado uma vez. Ou seja, a maior amostra \n",
    "# sem reposição que poderíamos fazer seria com k = 13, pois não haveria mais elementos para serem\n",
    "# retirados. Usa-se sample (amostra).\n",
    "print(random.sample(baralho, k = 2))\n"
   ]
  },
  {
   "cell_type": "code",
   "execution_count": 41,
   "id": "586363bf",
   "metadata": {},
   "outputs": [
    {
     "name": "stdout",
     "output_type": "stream",
     "text": [
      "0.166356\n"
     ]
    }
   ],
   "source": [
    "# Resumindo o Método de Monte Carlo, ele tem como premissa que é possível chegar à probabilidade\n",
    "# de certo evento ocorrer a partir de várias tentativas aleatórias. A seguir, confira o código\n",
    "# criado para fazer vários lançamentos de dois dados, em que foi feita uma tentativa de calcular\n",
    "# a probabilidade de dois dados lançados ao mesmo tempo caírem com o mesmo lado para cima.\n",
    "\n",
    "import random\n",
    "\n",
    "numero_tentativas = 2000000\n",
    "qtd_acertos = 0\n",
    "\n",
    "for i in range(numero_tentativas):\n",
    "    dado1 = random.randint(1, 6)\n",
    "    dado2 = random.randint(1, 6)\n",
    "    \n",
    "    if dado1 == dado2: qtd_acertos += 1\n",
    "\n",
    "print(qtd_acertos/numero_tentativas)\n",
    "    "
   ]
  },
  {
   "cell_type": "code",
   "execution_count": null,
   "id": "4fd429b6",
   "metadata": {},
   "outputs": [],
   "source": []
  }
 ],
 "metadata": {
  "kernelspec": {
   "display_name": "Python 3",
   "language": "python",
   "name": "python3"
  },
  "language_info": {
   "codemirror_mode": {
    "name": "ipython",
    "version": 3
   },
   "file_extension": ".py",
   "mimetype": "text/x-python",
   "name": "python",
   "nbconvert_exporter": "python",
   "pygments_lexer": "ipython3",
   "version": "3.8.8"
  }
 },
 "nbformat": 4,
 "nbformat_minor": 5
}
