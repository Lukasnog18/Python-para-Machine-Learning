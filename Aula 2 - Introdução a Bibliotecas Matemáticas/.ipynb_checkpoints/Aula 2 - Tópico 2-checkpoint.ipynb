{
 "cells": [
  {
   "cell_type": "code",
   "execution_count": 3,
   "id": "78bcefba",
   "metadata": {},
   "outputs": [
    {
     "name": "stdout",
     "output_type": "stream",
     "text": [
      "3.141592653589793\n",
      "inf\n",
      "-inf\n",
      "True\n",
      "False\n",
      "True\n",
      "nan\n",
      "False\n",
      "True\n"
     ]
    }
   ],
   "source": [
    "# Tópico 2 – Módulo Math\n",
    "\n",
    "import math\n",
    "\n",
    "print(math.pi)\n",
    "\n",
    "print(math.inf)\n",
    "\n",
    "print(-math.inf)\n",
    "\n",
    "print(math.inf > 100000000000)\n",
    "\n",
    "print(math.isinf(100000000000))\n",
    "\n",
    "print(math.isinf(math.inf))\n",
    "\n",
    "print(math.nan)\n",
    "\n",
    "print(math.isnan(10))\n",
    "\n",
    "# print(math.isnan('Texto'))\n",
    "\n",
    "print(math.isnan(math.nan))\n"
   ]
  },
  {
   "cell_type": "code",
   "execution_count": 5,
   "id": "1570ae01",
   "metadata": {},
   "outputs": [
    {
     "name": "stdout",
     "output_type": "stream",
     "text": [
      "10\n",
      "-9\n",
      "9\n",
      "-10\n",
      "9\n",
      "-9\n",
      "2.3\n",
      "2.3\n"
     ]
    }
   ],
   "source": [
    "# Existem alguns métodos no módulo Math que fazem um tratamento nos dados passados como argumento,\n",
    "# esses métodos são muito utilizados em ML para fazer a limpeza nos dados, ou seja, o processo de\n",
    "# identificação de partes incompletas, incorretas, imprecisas ou irrelevantes dos dados e, em seguida,\n",
    "# substituindo, modificando, ou excluindo os dados sujos ou grosseiros.\n",
    "# O código a seguir demonstra como fazer alguns desses tratamentos.\n",
    "\n",
    "import math\n",
    "\n",
    "# ceil(teto), floor(piso), trunc(truncamento), fabs(módulo)\n",
    "\n",
    "print(math.ceil(9.24))\n",
    "\n",
    "print(math.ceil(-9.24))\n",
    "\n",
    "print(math.floor(9.89))\n",
    "\n",
    "print(math.floor(-9.89))\n",
    "\n",
    "print(math.trunc(9.80))\n",
    "\n",
    "print(math.trunc(-9.80))\n",
    "\n",
    "print(math.fabs(2.3))\n",
    "\n",
    "print(math.fabs(-2.3))\n"
   ]
  },
  {
   "cell_type": "code",
   "execution_count": 9,
   "id": "200c839c",
   "metadata": {},
   "outputs": [
    {
     "name": "stdout",
     "output_type": "stream",
     "text": [
      "100.0\n",
      "10.0\n",
      "2.0\n",
      "720\n",
      "True\n",
      "True\n",
      "5\n"
     ]
    }
   ],
   "source": [
    "# Além dos métodos que fazem um tratamento nos dados, há os que fazem cálculos mais complexos\n",
    "# a partir dos valores passados como argumento.\n",
    "\n",
    "import math\n",
    "\n",
    "print(math.pow(10, 2))\n",
    "\n",
    "print(math.sqrt(100))\n",
    "\n",
    "print(math.log(100, 10))\n",
    "\n",
    "print(math.factorial(6))\n",
    "\n",
    "# tolerância em porcentagem -> x-(x*0.2) <= y <= x+(x*0.2)\n",
    "print(math.isclose(10, 8, rel_tol = 0.2))\n",
    "\n",
    "# tolerância usando um valor absoluto -> |x-y| <= z\n",
    "print(math.isclose(10, 5, abs_tol = 5))\n",
    "\n",
    "# MDC (Maior Divisor Comum)\n",
    "print(math.gcd(10, 15))\n"
   ]
  },
  {
   "cell_type": "code",
   "execution_count": 10,
   "id": "e26311b3",
   "metadata": {},
   "outputs": [
    {
     "name": "stdout",
     "output_type": "stream",
     "text": [
      "5654.8667764616275\n",
      "6361.725123519331\n"
     ]
    }
   ],
   "source": [
    "# Imagine que você decidiu comprar pizza para a família toda. Uma pizzaria oferece pizzas médias\n",
    "# com raio de 30cm e grandes com raio de 45cm, ao preço de R$ 40,00 e R$ 50,00 cada uma,\n",
    "# respectivamente. Você compraria duas pizzas médias ou uma grande?\n",
    "\n",
    "import math\n",
    "\n",
    "area_pizza_media = math.pi * math.pow(30, 2)\n",
    "\n",
    "area_pizza_grande = math.pi * math.pow(45, 2)\n",
    "\n",
    "print(area_pizza_media * 2)\n",
    "print(area_pizza_grande)\n"
   ]
  },
  {
   "cell_type": "code",
   "execution_count": 12,
   "id": "38d5594d",
   "metadata": {},
   "outputs": [
    {
     "name": "stdout",
     "output_type": "stream",
     "text": [
      "5.0\n",
      "2.23606797749979\n"
     ]
    }
   ],
   "source": [
    "# Triângulo pitagórico e plano cartesiano com dois pontos especificados\n",
    "\n",
    "import math\n",
    "\n",
    "print(math.hypot(3, 4))\n",
    "\n",
    "print(math.dist((1,3), (3,2)))\n"
   ]
  },
  {
   "cell_type": "code",
   "execution_count": null,
   "id": "8a78e815",
   "metadata": {},
   "outputs": [],
   "source": []
  }
 ],
 "metadata": {
  "kernelspec": {
   "display_name": "Python 3",
   "language": "python",
   "name": "python3"
  },
  "language_info": {
   "codemirror_mode": {
    "name": "ipython",
    "version": 3
   },
   "file_extension": ".py",
   "mimetype": "text/x-python",
   "name": "python",
   "nbconvert_exporter": "python",
   "pygments_lexer": "ipython3",
   "version": "3.8.8"
  }
 },
 "nbformat": 4,
 "nbformat_minor": 5
}
