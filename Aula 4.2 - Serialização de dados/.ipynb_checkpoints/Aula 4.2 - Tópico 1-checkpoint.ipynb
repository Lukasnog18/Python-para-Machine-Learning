{
 "cells": [
  {
   "cell_type": "code",
   "execution_count": 14,
   "id": "f2d4fd8b",
   "metadata": {},
   "outputs": [
    {
     "name": "stdout",
     "output_type": "stream",
     "text": [
      "<_csv.reader object at 0x000001FF223CAB80>\n",
      "['nome', 'departamento', 'mês de aniversário']\n",
      "['Lucas Nogueira ', 'RH', 'Novembro']\n",
      "['Anny Alves', 'TI', 'Março']\n",
      "\n",
      "\n",
      "<class 'csv.DictReader'>\n",
      "{'nome': 'Lucas Nogueira ', 'departamento': 'RH', 'mês de aniversário': 'Novembro'}\n",
      "{'nome': 'Anny Alves', 'departamento': 'TI', 'mês de aniversário': 'Março'}\n"
     ]
    }
   ],
   "source": [
    "# Serialização de dados\n",
    "# Tópico 1 – Comma Separated Values (CSV)\n",
    "\n",
    "# Para exemplificar esse assunto, imagine que você trabalha em uma empresa e precisa analisar as\n",
    "# informações dos seus colaboradores, como nome, departamento e mês de aniversário.\n",
    "\n",
    "import csv\n",
    "\n",
    "with open('aniversarios_funcionarios.csv', encoding = 'utf-8') as arquivo_csv:\n",
    "    leitor = csv.reader(arquivo_csv, delimiter = ',')\n",
    "    print(leitor)\n",
    "    for linha in leitor:\n",
    "        print(linha)\n",
    "        # print(linha[0])\n",
    "arquivo_csv.close()\n",
    "\n",
    "# usando o método DictReader, para ler dados do arquivo diretamente em um dicionário (dict). Se o\n",
    "# arquivo tiver muitas colunas, o método facilita a manipulação dos dados. Presume-se que a primeira\n",
    "# linha do arquivo CSV contenha as chaves a serem usadas para construir o dicionário. Se você não\n",
    "# tiver isso no arquivo CSV, você deve especificar suas próprias chaves definindo o parâmetro\n",
    "# opcional fieldnames com uma lista de chaves.\n",
    "\n",
    "print('\\n')\n",
    "with open('aniversarios_funcionarios.csv', encoding = 'utf-8') as arq_csv:\n",
    "    leitor_dict = csv.DictReader(arq_csv, delimiter = ',')\n",
    "    print(type(leitor_dict))\n",
    "    for linha in leitor_dict:\n",
    "        print(linha)\n",
    "arq_csv.close()\n"
   ]
  },
  {
   "cell_type": "code",
   "execution_count": 11,
   "id": "1adaae82",
   "metadata": {},
   "outputs": [],
   "source": [
    "# Você também pode escrever para um arquivo CSV usando o método writer e writerow. O método writer\n",
    "# retorna um objeto de escrita responsável por converter os dados de usuário em strings. Já o método\n",
    "# writerow escreve os dados passados como argumento no objeto writer.\n",
    "\n",
    "import csv\n",
    "\n",
    "with open('aniversarios_funcionarios_novo.csv', encoding = 'utf-8', mode = 'w',\n",
    "          newline = '') as arquivo_csv_novo:\n",
    "    escritor = csv.writer(arquivo_csv_novo, delimiter = ';')\n",
    "    \n",
    "    escritor.writerow(['nome', 'departamento', 'mês de aniversário'])\n",
    "    escritor.writerow(['Lucas Nogueira', 'RH', 'Novembro'])\n",
    "    escritor.writerow(['Anny Alves', 'TI', 'Março'])\n",
    "    \n",
    "arq_csv_novo.close()\n",
    "\n",
    "# O parâmetro newline controla como o modo de novas linhas funciona, que pode ser None, '',\n",
    "# '\\n', '\\r' e '\\r\\n’. Vamos utilizar como argumento uma string vazia para não ser adicionada\n",
    "# uma nova linha, pois o método writerow já insere uma nova linha por padrão.\n"
   ]
  },
  {
   "cell_type": "code",
   "execution_count": 12,
   "id": "871d18fc",
   "metadata": {},
   "outputs": [],
   "source": [
    "# O método DictWriter cria um objeto que funciona como um objeto de escrita comum, mas mapeia\n",
    "# dicionários nas linhas de saída.\n",
    "\n",
    "import csv\n",
    "\n",
    "with open('aniversarios_funcionarios_novo_dict.csv', encoding = 'utf-8', mode = 'w', \n",
    "         newline = '') as arq_csv_novo:\n",
    "    fieldnames = ['nome', 'departamento', 'mês de aniversário']\n",
    "    escritor_dict = csv.DictWriter(arq_csv_novo, delimiter = ';', fieldnames = fieldnames)\n",
    "\n",
    "    escritor_dict.writeheader()\n",
    "    escritor_dict.writerow({'nome': 'Lucas Nogueira', 'departamento': 'RH', 'mês de aniversário':\n",
    "                            'Novembro'})\n",
    "    escritor_dict.writerow({'nome': 'Anny Alves', 'departamento': 'TI', 'mês de aniversário':\n",
    "                            'Março'})\n",
    "    escritor_dict.writerow({'mês de aniversário': 'Agosto', 'nome': 'Pietra Johnson'})\n",
    "\n",
    "arq_csv_novo.close()\n"
   ]
  },
  {
   "cell_type": "code",
   "execution_count": null,
   "id": "70877f44",
   "metadata": {},
   "outputs": [],
   "source": []
  }
 ],
 "metadata": {
  "kernelspec": {
   "display_name": "Python 3",
   "language": "python",
   "name": "python3"
  },
  "language_info": {
   "codemirror_mode": {
    "name": "ipython",
    "version": 3
   },
   "file_extension": ".py",
   "mimetype": "text/x-python",
   "name": "python",
   "nbconvert_exporter": "python",
   "pygments_lexer": "ipython3",
   "version": "3.8.8"
  }
 },
 "nbformat": 4,
 "nbformat_minor": 5
}
