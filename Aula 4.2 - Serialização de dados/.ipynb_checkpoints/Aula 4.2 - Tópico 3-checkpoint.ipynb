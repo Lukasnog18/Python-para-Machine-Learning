{
 "cells": [
  {
   "cell_type": "code",
   "execution_count": 1,
   "id": "b2484e7f",
   "metadata": {},
   "outputs": [
    {
     "name": "stdout",
     "output_type": "stream",
     "text": [
      "b'\\x80\\x04\\x95\\x0f\\x00\\x00\\x00\\x00\\x00\\x00\\x00]\\x94(K\\x01K\\x02K\\x03K\\x04K\\x05e.'\n",
      "None\n",
      "[1, 2, 3, 4, 5]\n"
     ]
    }
   ],
   "source": [
    "# Tópico 3 – Pickle\n",
    "\n",
    "# usando os métodos dumps e loads, onde o 's' em ambos significa 'string'\n",
    "import pickle\n",
    "\n",
    "minha_lista = [1, 2, 3, 4, 5]\n",
    "meu_objeto_pickle = pickle.dumps(minha_lista)\n",
    "print(meu_objeto_pickle)\n",
    "\n",
    "minha_lista = None\n",
    "minha_lista_pickle = pickle.loads(meu_objeto_pickle)\n",
    "print(minha_lista)\n",
    "print(minha_lista_pickle)\n"
   ]
  },
  {
   "cell_type": "code",
   "execution_count": 12,
   "id": "5d333a1b",
   "metadata": {},
   "outputs": [
    {
     "name": "stdout",
     "output_type": "stream",
     "text": [
      "[1, 2, 3, 4, 5]\n",
      "False\n"
     ]
    }
   ],
   "source": [
    "# O código a seguir ilustra a utilização do método dump. Desse modo, ele será utilizado para\n",
    "# serializar dois elementos e persisti-los em um arquivo.\n",
    "\n",
    "import pickle\n",
    "\n",
    "minha_lista = [1, 2, 3, 4, 5]\n",
    "\n",
    "def eh_par(num):\n",
    "    if num % 2 == 0: return True\n",
    "    else: return False\n",
    "\n",
    "arquivo_pickle = open('exemplo_pickle.pck', 'wb')\n",
    "pickle.dump(minha_lista, arquivo_pickle)\n",
    "pickle.dump(eh_par, arquivo_pickle)\n",
    "arquivo_pickle.close()\n"
   ]
  },
  {
   "cell_type": "code",
   "execution_count": 2,
   "id": "9e0c1cfb",
   "metadata": {},
   "outputs": [
    {
     "name": "stdout",
     "output_type": "stream",
     "text": [
      "[1, 2, 3, 4, 5]\n",
      "False\n"
     ]
    }
   ],
   "source": [
    "# O código apresentado a seguir ilustra a utilização do método load. Ele será utilizado para\n",
    "# recuperar os dois elementos que foram persistidos no arquivo exemplo_pickle.\n",
    "\n",
    "import pickle\n",
    "\n",
    "minha_lista = [1, 2, 3, 4, 5]\n",
    "\n",
    "def eh_par(num):\n",
    "    if num % 2 == 0: return True\n",
    "    else: return False\n",
    "\n",
    "arq_pickle = open('exemplo_pickle.pck', 'rb')\n",
    "minha_lista_pickle = pickle.load(arq_pickle)\n",
    "eh_par_pickle = pickle.load(arq_pickle)\n",
    "arq_pickle.close()\n",
    "\n",
    "print(minha_lista_pickle)\n",
    "print(eh_par_pickle(3))\n"
   ]
  },
  {
   "cell_type": "code",
   "execution_count": 4,
   "id": "4d7a74b1",
   "metadata": {},
   "outputs": [
    {
     "name": "stdout",
     "output_type": "stream",
     "text": [
      "93\n"
     ]
    }
   ],
   "source": [
    "# A seguir, você encontra dois códigos. O primeiro demonstra a serialização de um algoritmo de ML\n",
    "# após o seu treinamento e o segundo demonstra a desserialização desse algoritmo já treinado.\n",
    "\n",
    "import pickle\n",
    "\n",
    "class algoritmo_ml:\n",
    "    def __init__(self, coeficiente_de_x, constante):\n",
    "        self.a = coeficiente_de_x\n",
    "        self.b = constante\n",
    "        \n",
    "    def previsao(self, x):\n",
    "        return x * self.a + self.b\n",
    "    \n",
    "arquivo_pickle = open('exemplo2_pickle.pck', 'wb')\n",
    "ex_1 = algoritmo_ml(9,3)\n",
    "pickle.dump(ex_1, arquivo_pickle)\n",
    "arq_pickle.close()\n",
    "\n",
    "\n",
    "arquivo_pickle = open('exemplo2_pickle.pck', 'rb')\n",
    "ex_1_pickle = pickle.load(arquivo_pickle)\n",
    "arquivo_pickle.close()\n",
    "\n",
    "print(ex_1_pickle.previsao(10))\n"
   ]
  },
  {
   "cell_type": "code",
   "execution_count": null,
   "id": "1086b26e",
   "metadata": {},
   "outputs": [],
   "source": []
  }
 ],
 "metadata": {
  "kernelspec": {
   "display_name": "Python 3",
   "language": "python",
   "name": "python3"
  },
  "language_info": {
   "codemirror_mode": {
    "name": "ipython",
    "version": 3
   },
   "file_extension": ".py",
   "mimetype": "text/x-python",
   "name": "python",
   "nbconvert_exporter": "python",
   "pygments_lexer": "ipython3",
   "version": "3.8.8"
  }
 },
 "nbformat": 4,
 "nbformat_minor": 5
}
