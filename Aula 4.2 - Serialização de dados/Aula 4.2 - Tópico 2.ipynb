{
 "cells": [
  {
   "cell_type": "code",
   "execution_count": 8,
   "id": "5da53986",
   "metadata": {},
   "outputs": [
    {
     "name": "stdout",
     "output_type": "stream",
     "text": [
      "<class 'dict'>\n",
      "{'primeiro_nome': 'João', 'sobrenome': 'Silva', 'passatempos': ['correr', 'nadar', 'jogar'], 'idade': 35, 'fumante': False, 'possui_filhos': True, 'possui_carro': None, 'filhos': [{'primeiro_nome': 'Aline', 'idade': 6}, {'primeiro_nome': 'Enzo', 'idade': 8}]}\n"
     ]
    },
    {
     "data": {
      "text/plain": [
       "'{\"primeiro_nome\": \"João\", \"sobrenome\": \"Silva\", \"passatempos\": [\"correr\", \"nadar\", \"jogar\"], \"idade\": 35, \"fumante\": false, \"possui_filhos\": true, \"possui_carro\": null, \"filhos\": [{\"primeiro_nome\": \"Aline\", \"idade\": 6}, {\"primeiro_nome\": \"Enzo\", \"idade\": 8}]}'"
      ]
     },
     "execution_count": 8,
     "metadata": {},
     "output_type": "execute_result"
    }
   ],
   "source": [
    "# Tópico 2 – JSON\n",
    "\n",
    "import json\n",
    "\n",
    "arquivo_json = open('exemplo_json.json', encoding = 'utf-8')\n",
    "# load deserializa o arquivo json para um dict python\n",
    "pessoa = json.load(arquivo_json)\n",
    "\n",
    "arquivo_json.close()\n",
    "\n",
    "print(type(pessoa))\n",
    "print(pessoa)\n",
    "\n",
    "# você pode usar o dicionário Python, já utilizado para desserializar o arquivo, para serializá-lo\n",
    "# novamente em um objeto JSON.\n",
    "\n",
    "json.dumps(pessoa)\n",
    "json.dumps(pessoa, ensure_ascii = False)\n"
   ]
  },
  {
   "cell_type": "code",
   "execution_count": 9,
   "id": "d7de2c7b",
   "metadata": {},
   "outputs": [],
   "source": [
    "# Imagine que você precisa fazer um algoritmo de Machine Learning que recomende filmes. Para isso,\n",
    "# você primeiro precisa dos dados do filme e serializá-lo em alguma estrutura de dados. Aqui, será\n",
    "# usado o filme Toy Story como exemplo. O código a seguir ilustra um exemplo de serialização de um\n",
    "# JSON contendo os dados do filme Toy Story, sendo criado do zero a partir de um dicionário.\n",
    "\n",
    "import json\n",
    "\n",
    "filme = {}\n",
    "filme['Nome'] = 'Toy Story'\n",
    "filme['Direção'] = 'John Lasseter'\n",
    "filme['Produção executiva'] = ['Edwin Catmull','Steve Jobs']\n",
    "filme['Gênero'] = ['animação','aventura','comédia']\n",
    "filme['Produtora'] = ['Walt Disney Pictures','Pixar Animation Studios']\n",
    "filme['Lançamento'] = [{'País': 'Estados Unidos',\n",
    "                      'Data': '22/11/1995'},\n",
    "                      {'País': 'Brasil',\n",
    "                      'Data': '22/12/1995'},\n",
    "                      {'País': 'Portugal',\n",
    "                      'Data': '29/03/1996'}]\n",
    "filme['Orçamento (US$)'] = 30000000\n",
    "filme['Receita (US$)'] = 406594102\n",
    "\n",
    "arq_json = open('exemplo2_json.json', mode = 'w', encoding = 'utf-8')\n",
    "json.dump(filme, arq_json, ensure_ascii = False)\n",
    "arq_json.close()\n"
   ]
  },
  {
   "cell_type": "code",
   "execution_count": null,
   "id": "bf37df3a",
   "metadata": {},
   "outputs": [],
   "source": []
  }
 ],
 "metadata": {
  "kernelspec": {
   "display_name": "Python 3",
   "language": "python",
   "name": "python3"
  },
  "language_info": {
   "codemirror_mode": {
    "name": "ipython",
    "version": 3
   },
   "file_extension": ".py",
   "mimetype": "text/x-python",
   "name": "python",
   "nbconvert_exporter": "python",
   "pygments_lexer": "ipython3",
   "version": "3.8.8"
  }
 },
 "nbformat": 4,
 "nbformat_minor": 5
}
