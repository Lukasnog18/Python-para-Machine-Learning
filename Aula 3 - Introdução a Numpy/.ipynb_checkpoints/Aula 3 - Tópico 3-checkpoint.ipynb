{
 "cells": [
  {
   "cell_type": "code",
   "execution_count": 7,
   "id": "866af9ed",
   "metadata": {},
   "outputs": [
    {
     "name": "stdout",
     "output_type": "stream",
     "text": [
      "Sem máscara:  [ 1.  2.  3. nan  5.]\n",
      "Com máscara:  [1.0 2.0 3.0 -- 5.0]\n",
      "\n",
      "\n",
      "nan\n",
      "2.75\n",
      "nan\n",
      "2.5\n",
      "nan\n",
      "1.0\n",
      "3\n",
      "0\n"
     ]
    }
   ],
   "source": [
    "# Tópico 3 – O Array Mascarado\n",
    "\n",
    "import numpy as np\n",
    "import numpy.ma as ma\n",
    "\n",
    "dados_invalidos = np.array([1, 2, 3, np.nan, 5])\n",
    "dados_mascarados = ma.masked_array(dados_invalidos, mask = [False, False, False, True, False])\n",
    "print('Sem máscara: ', dados_invalidos)\n",
    "print('Com máscara: ', dados_mascarados)\n",
    "\n",
    "print('\\n')\n",
    "\n",
    "print(dados_invalidos.mean())\n",
    "print(dados_mascarados.mean())\n",
    "print(np.median(dados_invalidos))\n",
    "print(np.ma.median(dados_mascarados))\n",
    "print(dados_invalidos.min())\n",
    "print(dados_mascarados.min())\n",
    "print(dados_invalidos.argmin())\n",
    "print(dados_mascarados.argmin())\n"
   ]
  },
  {
   "cell_type": "code",
   "execution_count": 19,
   "id": "be15822b",
   "metadata": {},
   "outputs": [
    {
     "name": "stdout",
     "output_type": "stream",
     "text": [
      "[   0 -999    2 -999    4    5    6    7 -999 -999   10   11 -999   13\n",
      "   14   15   16   17   18   19]\n",
      "\n",
      "\n",
      "[0 -- 2 -- 4 5 6 7 -- -- 10 11 -- 13 14 15 16 17 18 19]\n",
      "[0 -- 2 -- 4 5 6 7 -- -- 10 11 -- 13 14 15 16 17 18 19]\n",
      "\n",
      "\n",
      "[False  True False  True False False False False  True  True False False\n",
      "  True False False False False False False False]\n",
      "\n",
      "\n",
      "[ 0 10  2 10  4  5  6  7 10 10 10 11 10 13 14 15 16 17 18 19]\n",
      "[]\n"
     ]
    }
   ],
   "source": [
    "# Como criar arrays mascarados sem saber a posição, somente o valor indesejado.\n",
    "\n",
    "import numpy as np\n",
    "import numpy.ma as ma\n",
    "from random import sample\n",
    "\n",
    "array_invalido = np.arange(20)\n",
    "indices = sample(array_invalido.data, k = 5)\n",
    "array_invalido[indices] = -999\n",
    "print(array_invalido)\n",
    "\n",
    "print('\\n')\n",
    "array_mascarado = np.ma.masked_where(array_invalido == -999, array_invalido)\n",
    "print(array_mascarado)\n",
    "array_mascarado2 = np.ma.masked_where(array_invalido < 0, array_invalido)\n",
    "print(array_mascarado2)\n",
    "\n",
    "print('\\n')\n",
    "print(array_invalido < 0)\n",
    "\n",
    "# Preencher valores invalidos num array mascarado\n",
    "print('\\n')\n",
    "print(array_mascarado.filled(10))\n",
    "\n",
    "# Você aprendeu que um NumPy Array suporta indexação através de lista de inteiros. Ele também suporta\n",
    "# indexação através de lista de booleanos. Nessa operação, o resultado é um array, onde os elementos\n",
    "# são os valores, e os índices possuem valor True. No exemplo anterior, caso você utilizasse o vetor\n",
    "# de booleanos do resultado da condição como índice de array_invalido, o resultado seria um array\n",
    "# somente contendo valores -999. Este tipo de indexação através de listas no NumPy é um tópico \n",
    "# chamado de indexação avançada.\n",
    "\n",
    "# https://numpy.org/doc/stable/user/\n",
    "# https://numpy.org/doc/stable/reference/\n"
   ]
  },
  {
   "cell_type": "code",
   "execution_count": null,
   "id": "bec457ce",
   "metadata": {},
   "outputs": [],
   "source": []
  }
 ],
 "metadata": {
  "kernelspec": {
   "display_name": "Python 3",
   "language": "python",
   "name": "python3"
  },
  "language_info": {
   "codemirror_mode": {
    "name": "ipython",
    "version": 3
   },
   "file_extension": ".py",
   "mimetype": "text/x-python",
   "name": "python",
   "nbconvert_exporter": "python",
   "pygments_lexer": "ipython3",
   "version": "3.8.8"
  }
 },
 "nbformat": 4,
 "nbformat_minor": 5
}
