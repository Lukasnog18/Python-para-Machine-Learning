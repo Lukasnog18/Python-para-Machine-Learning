{
 "cells": [
  {
   "cell_type": "code",
   "execution_count": 7,
   "id": "4a26efa8",
   "metadata": {},
   "outputs": [
    {
     "name": "stdout",
     "output_type": "stream",
     "text": [
      "[2 4 6]\n",
      "[2 4 6]\n",
      "(3, 3)\n",
      "[1, 2, 3, 4, 5, 6]\n",
      "[5 7 9]\n",
      "[1, 2, 3, 1, 2, 3, 1, 2, 3]\n",
      "[3 6 9]\n"
     ]
    }
   ],
   "source": [
    "# Introdução a Numpy\n",
    "# Tópico 1 – Conhecendo o Array\n",
    "\n",
    "import numpy as np\n",
    "\n",
    "matriz1d = np.array([1, 2, 3])\n",
    "matriz2d = np.array([[1, 2, 3], [4, 5, 6], [7, 8, 9]])\n",
    "\n",
    "print(matriz1d * 2)\n",
    "print(matriz1d + matriz1d)\n",
    "\n",
    "print(matriz2d.shape)\n",
    "\n",
    "print([1, 2, 3] + [4, 5, 6])\n",
    "print(np.array([1, 2, 3]) + np.array([4, 5, 6]))\n",
    "\n",
    "print([1, 2, 3] * 3)\n",
    "print(np.array([1, 2, 3]) * 3)\n"
   ]
  },
  {
   "cell_type": "code",
   "execution_count": 12,
   "id": "da61f0cf",
   "metadata": {},
   "outputs": [
    {
     "name": "stdout",
     "output_type": "stream",
     "text": [
      "1\n",
      "2\n",
      "3\n"
     ]
    }
   ],
   "source": [
    "# Dimensões\n",
    "# Formalmente, uma matriz é estritamente bidimensional. Na matemática, o termo correto para uma\n",
    "# matriz de com dimensões acima de 2 é um tensor. \n",
    "# No entanto, no mundo da programação, é comum nos referirmos a matrizes multidimensionais.\n",
    "\n",
    "import numpy as np\n",
    "\n",
    "matriz1d = np.array([1, 2, 3])\n",
    "matriz2d = np.array([[1, 2, 3], [4, 5, 6], [7, 8, 9]])\n",
    "matriz3d = np.array([[[1, 2, 3], [4, 5, 6], [7, 8, 9]], [[10, 11, 12], [13, 14, 15], [16, 17, 18]]])\n",
    "\n",
    "print(matriz1d.ndim)\n",
    "print(matriz2d.ndim)\n",
    "print(matriz3d.ndim)\n",
    "# print(matriz3d.shape)\n",
    "# print(matriz1d.shape)\n"
   ]
  },
  {
   "cell_type": "code",
   "execution_count": 18,
   "id": "5fc87201",
   "metadata": {
    "collapsed": true
   },
   "outputs": [
    {
     "name": "stdout",
     "output_type": "stream",
     "text": [
      "[[21 14 13]\n",
      " [20 60 51]\n",
      " [40 35 27]]\n",
      "\n",
      "\n",
      "[[19 10  7]\n",
      " [12 50 39]\n",
      " [26 19  9]]\n",
      "\n",
      "\n",
      "[[ 2  4  6]\n",
      " [ 8 10 12]\n",
      " [14 16 18]]\n",
      "\n",
      "\n",
      "[[151 203 154]\n",
      " [358 485 373]\n",
      " [565 767 592]]\n",
      "\n",
      "\n",
      "[[138 180 222]\n",
      " [551 667 783]\n",
      " [267 345 423]]\n",
      "\n",
      "\n",
      "(2, 3)\n",
      "\n",
      "\n",
      "[[30 36 42]\n",
      " [66 81 96]]\n"
     ]
    }
   ],
   "source": [
    "# Como em Matemática, as matrizes em NumPy realizam operações matemáticas básicas, como soma,\n",
    "# subtração, multiplicação e multiplicação por número. Confira abaixo alguns exemplos das operações\n",
    "# descritas anteriormente:\n",
    "\n",
    "import numpy as np\n",
    "\n",
    "matriz2d = np.array([[1, 2, 3], [4, 5, 6], [7, 8, 9]])\n",
    "matriz2d2 = np.array([[20, 12, 10], [16, 55, 45], [33, 27, 18]])\n",
    "print(matriz2d + matriz2d2)\n",
    "print('\\n')\n",
    "print(matriz2d2 - matriz2d)\n",
    "print('\\n')\n",
    "print(matriz2d * 2)\n",
    "\n",
    "print('\\n')\n",
    "print(np.dot(matriz2d, matriz2d2))\n",
    "print('\\n')\n",
    "print(np.dot(matriz2d2, matriz2d))\n",
    "matriz23 = np.array([[1, 2, 3], [4, 5, 6]])\n",
    "print('\\n')\n",
    "print(matriz23.shape)\n",
    "print('\\n')\n",
    "print(np.dot(matriz23, matriz2d))\n",
    "# print('\\n')\n",
    "# print(np.dot(matriz2d, matriz23))\n"
   ]
  },
  {
   "cell_type": "code",
   "execution_count": 21,
   "id": "d176fc6b",
   "metadata": {},
   "outputs": [
    {
     "name": "stdout",
     "output_type": "stream",
     "text": [
      "[-3. -4.]\n",
      "[8. 4.]\n",
      "[6 8]\n"
     ]
    }
   ],
   "source": [
    "# Algumas operações com matrizes\n",
    "\n",
    "import numpy as np\n",
    "\n",
    "ponto_original = np.array([3, 4])\n",
    "rotacao = np.array([[-1.0, 0.0], [0.0, -1.0]])\n",
    "ponto_rotacionado = np.dot(rotacao, ponto_original)\n",
    "print(ponto_rotacionado)\n",
    "\n",
    "translacao = np.array([5.0, 0.0])\n",
    "ponto_transladado = translacao + ponto_original\n",
    "print(ponto_transladado)\n",
    "\n",
    "escala = 2\n",
    "ponto_escalonado = escala * ponto_original\n",
    "print(ponto_escalonado)\n"
   ]
  },
  {
   "cell_type": "code",
   "execution_count": 30,
   "id": "39bebfd5",
   "metadata": {},
   "outputs": [
    {
     "name": "stdout",
     "output_type": "stream",
     "text": [
      "[[0. 0. 0.]]\n",
      "[[1. 1.]\n",
      " [1. 1.]]\n",
      "[[3 3]]\n",
      "[[nan]\n",
      " [nan]]\n",
      "\n",
      "\n",
      "[0 1 2 3 4]\n",
      "[0.  0.4 0.8 1.2 1.6]\n",
      "[0.  0.4 0.8 1.2 1.6 2. ]\n"
     ]
    }
   ],
   "source": [
    "# Confira um código com diversos exemplos para inicialização de matrizes utilizando métodos\n",
    "# próprios da biblioteca.\n",
    "\n",
    "import numpy as np\n",
    "\n",
    "print(np.zeros((1, 3)))\n",
    "print(np.ones((2, 2)))\n",
    "print(np.full((1, 2), 3))\n",
    "print(np.full((2, 1), np.nan))\n",
    "\n",
    "# métodos arange e linspace\n",
    "# As funções arange e linspace são bem parecidas, e você pode obter o mesmo resultado com as duas\n",
    "# se desejar. Mas como escolher qual usar? De forma geral, pode-se usar arange com valores inteiros\n",
    "# ou quando tiver um valor de passo específico. Já a linspace deve ser utilizada quando quiser incluir\n",
    "# o valor final na sequência ou tiver um número fixo de elementos para produzir. \n",
    "\n",
    "print('\\n')\n",
    "print(np.arange(5))\n",
    "print(np.arange(0, 2, 0.4))\n",
    "print(np.linspace(0, 2, 6))\n"
   ]
  },
  {
   "cell_type": "code",
   "execution_count": 33,
   "id": "8f79df83",
   "metadata": {},
   "outputs": [
    {
     "name": "stdout",
     "output_type": "stream",
     "text": [
      "5\n",
      "[5 6 7 8 9]\n",
      "[0 1 2 3 4]\n",
      "[2 3 4 5 6 7]\n",
      "[0 2 4 6 8]\n",
      "\n",
      "\n",
      "[[1 2 3]\n",
      " [4 5 6]\n",
      " [7 8 9]]\n",
      "5\n",
      "[2 5 8]\n",
      "[1 2 3]\n",
      "[[2 3]\n",
      " [5 6]]\n"
     ]
    }
   ],
   "source": [
    "# Indexação\n",
    "# A indexação nos Arrays do Numpy funciona de forma similar à indexação das listas. Na indexação de\n",
    "# um array, é possível passar um índice específico, um intervalo sem passo ou um intervalo com passo.\n",
    "\n",
    "import numpy as np\n",
    "\n",
    "vetor = np.arange(10)\n",
    "print(vetor[5])\n",
    "print(vetor[5:])\n",
    "print(vetor[:5])\n",
    "print(vetor[2:8])\n",
    "print(vetor[0:10:2])\n",
    "\n",
    "# Com matrizes multidimensionais:\n",
    "matriz = np.array([[1, 2, 3], [4, 5, 6], [7, 8, 9]])\n",
    "print('\\n')\n",
    "print(matriz)\n",
    "print(matriz[1, 1])\n",
    "print(matriz[:, 1])\n",
    "print(matriz[0, :])\n",
    "print(matriz[:2, 1:])\n",
    "\n",
    "# Pode parecer um pouco diferente, a princípio, trabalhar com várias dimensões, mas simplesmente\n",
    "# pense nas operações de indexação agindo de forma independente em cada eixo.\n",
    "\n"
   ]
  },
  {
   "cell_type": "code",
   "execution_count": null,
   "id": "65a3fef3",
   "metadata": {},
   "outputs": [],
   "source": []
  },
  {
   "cell_type": "code",
   "execution_count": 37,
   "id": "4f284092",
   "metadata": {},
   "outputs": [
    {
     "name": "stdout",
     "output_type": "stream",
     "text": [
      "(3, 2)\n",
      "[1 2 3 4 5 6]\n",
      "[[1 2 3]\n",
      " [4 5 6]]\n",
      "[ 1  2  3  4  5  6  7  8  9 10 11 12]\n"
     ]
    }
   ],
   "source": [
    "# A partir de um Array, é possível obter muitos outros arrays de diferentes shapes. Há duas funções\n",
    "# principais para isso: ravel e reshape. A primeira retorna um vetor unidimensional com todos os\n",
    "# valores, como se as dimensões tivessem sido “achatadas”. O método reshape recebe como argumento o\n",
    "# novo shape, transforma a matriz original e cria uma nova com o tamanho especificado. É importante\n",
    "# observar que o novo shape deve ser compatível com o shape original. Pois as matrizes devem possuir\n",
    "# o mesmo número de elementos. Confira o código a seguir que ilustra casos de uso.\n",
    "\n",
    "import numpy as np\n",
    "\n",
    "matriz_coluna = np.array([[1, 2], [3, 4], [5, 6]])\n",
    "print(matriz_coluna.shape)\n",
    "vetor = matriz_coluna.ravel()\n",
    "print(vetor)\n",
    "matriz_linha = matriz_coluna.reshape((2, 3))\n",
    "print(matriz_linha)\n",
    "# matriz_invalida = matriz_coluna.reshape((2, 4))"
   ]
  },
  {
   "cell_type": "code",
   "execution_count": null,
   "id": "dcb3a553",
   "metadata": {},
   "outputs": [],
   "source": []
  }
 ],
 "metadata": {
  "kernelspec": {
   "display_name": "Python 3",
   "language": "python",
   "name": "python3"
  },
  "language_info": {
   "codemirror_mode": {
    "name": "ipython",
    "version": 3
   },
   "file_extension": ".py",
   "mimetype": "text/x-python",
   "name": "python",
   "nbconvert_exporter": "python",
   "pygments_lexer": "ipython3",
   "version": "3.8.8"
  }
 },
 "nbformat": 4,
 "nbformat_minor": 5
}
